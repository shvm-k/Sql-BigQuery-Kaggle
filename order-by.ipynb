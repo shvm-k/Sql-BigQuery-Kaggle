{
 "cells": [
  {
   "cell_type": "markdown",
   "id": "fdb506ba",
   "metadata": {
    "papermill": {
     "duration": 0.010569,
     "end_time": "2023-02-16T05:33:47.201134",
     "exception": false,
     "start_time": "2023-02-16T05:33:47.190565",
     "status": "completed"
    },
    "tags": []
   },
   "source": [
    "**This notebook is an exercise in the [SQL](https://www.kaggle.com/learn/intro-to-sql) course.  You can reference the tutorial at [this link](https://www.kaggle.com/dansbecker/order-by).**\n",
    "\n",
    "---\n"
   ]
  },
  {
   "cell_type": "markdown",
   "id": "16273768",
   "metadata": {
    "papermill": {
     "duration": 0.004521,
     "end_time": "2023-02-16T05:33:47.210427",
     "exception": false,
     "start_time": "2023-02-16T05:33:47.205906",
     "status": "completed"
    },
    "tags": []
   },
   "source": [
    "# Introduction\n",
    "\n",
    "You've built up your SQL skills enough that the remaining hands-on exercises will use different datasets than you see in the explanations. If you need to get to know a new dataset, you can run a couple of **SELECT** queries to extract and review the data you need. \n",
    "\n",
    "The next exercises are also more challenging than what you've done so far. Don't worry, you are ready for it!\n",
    "\n",
    "Run the code in the following cell to get everything set up:"
   ]
  },
  {
   "cell_type": "code",
   "execution_count": 1,
   "id": "2582fa23",
   "metadata": {
    "execution": {
     "iopub.execute_input": "2023-02-16T05:33:47.221747Z",
     "iopub.status.busy": "2023-02-16T05:33:47.220852Z",
     "iopub.status.idle": "2023-02-16T05:33:49.583150Z",
     "shell.execute_reply": "2023-02-16T05:33:49.581721Z"
    },
    "papermill": {
     "duration": 2.371681,
     "end_time": "2023-02-16T05:33:49.586540",
     "exception": false,
     "start_time": "2023-02-16T05:33:47.214859",
     "status": "completed"
    },
    "tags": []
   },
   "outputs": [
    {
     "name": "stdout",
     "output_type": "stream",
     "text": [
      "Using Kaggle's public dataset BigQuery integration.\n"
     ]
    },
    {
     "name": "stderr",
     "output_type": "stream",
     "text": [
      "/opt/conda/lib/python3.7/site-packages/google/cloud/bigquery/client.py:440: UserWarning: Cannot create BigQuery Storage client, the dependency google-cloud-bigquery-storage is not installed.\n",
      "  \"Cannot create BigQuery Storage client, the dependency \"\n"
     ]
    },
    {
     "name": "stdout",
     "output_type": "stream",
     "text": [
      "Setup Complete\n"
     ]
    }
   ],
   "source": [
    "# Set up feedback system\n",
    "from learntools.core import binder\n",
    "binder.bind(globals())\n",
    "from learntools.sql.ex4 import *\n",
    "print(\"Setup Complete\")"
   ]
  },
  {
   "cell_type": "markdown",
   "id": "54d9c0e4",
   "metadata": {
    "papermill": {
     "duration": 0.004193,
     "end_time": "2023-02-16T05:33:49.595778",
     "exception": false,
     "start_time": "2023-02-16T05:33:49.591585",
     "status": "completed"
    },
    "tags": []
   },
   "source": [
    "The World Bank has made tons of interesting education data available through BigQuery. Run the following cell to see the first few rows of the `international_education` table from the `world_bank_intl_education` dataset."
   ]
  },
  {
   "cell_type": "code",
   "execution_count": 2,
   "id": "64680ddc",
   "metadata": {
    "execution": {
     "iopub.execute_input": "2023-02-16T05:33:49.606571Z",
     "iopub.status.busy": "2023-02-16T05:33:49.605788Z",
     "iopub.status.idle": "2023-02-16T05:33:50.629943Z",
     "shell.execute_reply": "2023-02-16T05:33:50.628281Z"
    },
    "papermill": {
     "duration": 1.03309,
     "end_time": "2023-02-16T05:33:50.633191",
     "exception": false,
     "start_time": "2023-02-16T05:33:49.600101",
     "status": "completed"
    },
    "tags": []
   },
   "outputs": [
    {
     "name": "stdout",
     "output_type": "stream",
     "text": [
      "Using Kaggle's public dataset BigQuery integration.\n"
     ]
    },
    {
     "name": "stderr",
     "output_type": "stream",
     "text": [
      "/opt/conda/lib/python3.7/site-packages/ipykernel_launcher.py:19: UserWarning: Cannot use bqstorage_client if max_results is set, reverting to fetching data with the tabledata.list endpoint.\n"
     ]
    },
    {
     "data": {
      "text/html": [
       "<div>\n",
       "<style scoped>\n",
       "    .dataframe tbody tr th:only-of-type {\n",
       "        vertical-align: middle;\n",
       "    }\n",
       "\n",
       "    .dataframe tbody tr th {\n",
       "        vertical-align: top;\n",
       "    }\n",
       "\n",
       "    .dataframe thead th {\n",
       "        text-align: right;\n",
       "    }\n",
       "</style>\n",
       "<table border=\"1\" class=\"dataframe\">\n",
       "  <thead>\n",
       "    <tr style=\"text-align: right;\">\n",
       "      <th></th>\n",
       "      <th>country_name</th>\n",
       "      <th>country_code</th>\n",
       "      <th>indicator_name</th>\n",
       "      <th>indicator_code</th>\n",
       "      <th>value</th>\n",
       "      <th>year</th>\n",
       "    </tr>\n",
       "  </thead>\n",
       "  <tbody>\n",
       "    <tr>\n",
       "      <th>0</th>\n",
       "      <td>Chad</td>\n",
       "      <td>TCD</td>\n",
       "      <td>Enrolment in lower secondary education, both s...</td>\n",
       "      <td>UIS.E.2</td>\n",
       "      <td>321921.0</td>\n",
       "      <td>2012</td>\n",
       "    </tr>\n",
       "    <tr>\n",
       "      <th>1</th>\n",
       "      <td>Chad</td>\n",
       "      <td>TCD</td>\n",
       "      <td>Enrolment in upper secondary education, both s...</td>\n",
       "      <td>UIS.E.3</td>\n",
       "      <td>68809.0</td>\n",
       "      <td>2006</td>\n",
       "    </tr>\n",
       "    <tr>\n",
       "      <th>2</th>\n",
       "      <td>Chad</td>\n",
       "      <td>TCD</td>\n",
       "      <td>Enrolment in upper secondary education, both s...</td>\n",
       "      <td>UIS.E.3</td>\n",
       "      <td>30551.0</td>\n",
       "      <td>1999</td>\n",
       "    </tr>\n",
       "    <tr>\n",
       "      <th>3</th>\n",
       "      <td>Chad</td>\n",
       "      <td>TCD</td>\n",
       "      <td>Enrolment in upper secondary education, both s...</td>\n",
       "      <td>UIS.E.3</td>\n",
       "      <td>79784.0</td>\n",
       "      <td>2007</td>\n",
       "    </tr>\n",
       "    <tr>\n",
       "      <th>4</th>\n",
       "      <td>Chad</td>\n",
       "      <td>TCD</td>\n",
       "      <td>Repeaters in primary education, all grades, bo...</td>\n",
       "      <td>UIS.R.1</td>\n",
       "      <td>282699.0</td>\n",
       "      <td>2006</td>\n",
       "    </tr>\n",
       "  </tbody>\n",
       "</table>\n",
       "</div>"
      ],
      "text/plain": [
       "  country_name country_code  \\\n",
       "0         Chad          TCD   \n",
       "1         Chad          TCD   \n",
       "2         Chad          TCD   \n",
       "3         Chad          TCD   \n",
       "4         Chad          TCD   \n",
       "\n",
       "                                      indicator_name indicator_code     value  \\\n",
       "0  Enrolment in lower secondary education, both s...        UIS.E.2  321921.0   \n",
       "1  Enrolment in upper secondary education, both s...        UIS.E.3   68809.0   \n",
       "2  Enrolment in upper secondary education, both s...        UIS.E.3   30551.0   \n",
       "3  Enrolment in upper secondary education, both s...        UIS.E.3   79784.0   \n",
       "4  Repeaters in primary education, all grades, bo...        UIS.R.1  282699.0   \n",
       "\n",
       "   year  \n",
       "0  2012  \n",
       "1  2006  \n",
       "2  1999  \n",
       "3  2007  \n",
       "4  2006  "
      ]
     },
     "execution_count": 2,
     "metadata": {},
     "output_type": "execute_result"
    }
   ],
   "source": [
    "from google.cloud import bigquery\n",
    "\n",
    "# Create a \"Client\" object\n",
    "client = bigquery.Client()\n",
    "\n",
    "# Construct a reference to the \"world_bank_intl_education\" dataset\n",
    "dataset_ref = client.dataset(\"world_bank_intl_education\", project=\"bigquery-public-data\")\n",
    "\n",
    "# API request - fetch the dataset\n",
    "dataset = client.get_dataset(dataset_ref)\n",
    "\n",
    "# Construct a reference to the \"international_education\" table\n",
    "table_ref = dataset_ref.table(\"international_education\")\n",
    "\n",
    "# API request - fetch the table\n",
    "table = client.get_table(table_ref)\n",
    "\n",
    "# Preview the first five lines of the \"international_education\" table\n",
    "client.list_rows(table, max_results=5).to_dataframe()"
   ]
  },
  {
   "cell_type": "markdown",
   "id": "4f0eb72c",
   "metadata": {
    "papermill": {
     "duration": 0.004687,
     "end_time": "2023-02-16T05:33:50.643138",
     "exception": false,
     "start_time": "2023-02-16T05:33:50.638451",
     "status": "completed"
    },
    "tags": []
   },
   "source": [
    "# Exercises\n",
    "\n",
    "The value in the `indicator_code` column describes what type of data is shown in a given row.  \n",
    "\n",
    "One interesting indicator code is `SE.XPD.TOTL.GD.ZS`, which corresponds to \"Government expenditure on education as % of GDP (%)\".\n",
    "\n",
    "### 1) Government expenditure on education\n",
    "\n",
    "Which countries spend the largest fraction of GDP on education?  \n",
    "\n",
    "To answer this question, consider only the rows in the dataset corresponding to indicator code `SE.XPD.TOTL.GD.ZS`, and write a query that returns the average value in the `value` column for each country in the dataset between the years 2010-2017 (including 2010 and 2017 in the average). \n",
    "\n",
    "Requirements:\n",
    "- Your results should have the country name rather than the country code. You will have one row for each country.\n",
    "- The aggregate function for average is **AVG()**.  Use the name `avg_ed_spending_pct` for the column created by this aggregation.\n",
    "- Order the results so the countries that spend the largest fraction of GDP on education show up first.\n",
    "\n",
    "In case it's useful to see a sample query, here's a query you saw in the tutorial (using a different dataset):\n",
    "```\n",
    "# Query to find out the number of accidents for each day of the week\n",
    "query = \"\"\"\n",
    "        SELECT COUNT(consecutive_number) AS num_accidents, \n",
    "               EXTRACT(DAYOFWEEK FROM timestamp_of_crash) AS day_of_week\n",
    "        FROM `bigquery-public-data.nhtsa_traffic_fatalities.accident_2015`\n",
    "        GROUP BY day_of_week\n",
    "        ORDER BY num_accidents DESC\n",
    "        \"\"\"\n",
    "```"
   ]
  },
  {
   "cell_type": "code",
   "execution_count": 3,
   "id": "77d3b9c3",
   "metadata": {
    "execution": {
     "iopub.execute_input": "2023-02-16T05:33:50.654914Z",
     "iopub.status.busy": "2023-02-16T05:33:50.654489Z",
     "iopub.status.idle": "2023-02-16T05:33:50.666595Z",
     "shell.execute_reply": "2023-02-16T05:33:50.665455Z"
    },
    "papermill": {
     "duration": 0.020901,
     "end_time": "2023-02-16T05:33:50.668951",
     "exception": false,
     "start_time": "2023-02-16T05:33:50.648050",
     "status": "completed"
    },
    "tags": []
   },
   "outputs": [
    {
     "name": "stdout",
     "output_type": "stream",
     "text": [
      "Using Kaggle's public dataset BigQuery integration.\n"
     ]
    }
   ],
   "source": [
    "# Set up feedack system\n",
    "from learntools.core import binder\n",
    "binder.bind(globals())\n",
    "from learntools.sql.ex4 import *\n",
    "\n",
    "# import package with helper functions \n",
    "import bq_helper\n",
    "\n",
    "# create a helper object for this dataset\n",
    "education_data = bq_helper.BigQueryHelper(active_project=\"bigquery-public-data\",\n",
    "                                          dataset_name=\"world_bank_intl_education\")"
   ]
  },
  {
   "cell_type": "code",
   "execution_count": 4,
   "id": "019a1460",
   "metadata": {
    "execution": {
     "iopub.execute_input": "2023-02-16T05:33:50.680873Z",
     "iopub.status.busy": "2023-02-16T05:33:50.680185Z",
     "iopub.status.idle": "2023-02-16T05:33:51.801431Z",
     "shell.execute_reply": "2023-02-16T05:33:51.800125Z"
    },
    "papermill": {
     "duration": 1.129922,
     "end_time": "2023-02-16T05:33:51.803821",
     "exception": false,
     "start_time": "2023-02-16T05:33:50.673899",
     "status": "completed"
    },
    "tags": []
   },
   "outputs": [
    {
     "data": {
      "text/html": [
       "<div>\n",
       "<style scoped>\n",
       "    .dataframe tbody tr th:only-of-type {\n",
       "        vertical-align: middle;\n",
       "    }\n",
       "\n",
       "    .dataframe tbody tr th {\n",
       "        vertical-align: top;\n",
       "    }\n",
       "\n",
       "    .dataframe thead th {\n",
       "        text-align: right;\n",
       "    }\n",
       "</style>\n",
       "<table border=\"1\" class=\"dataframe\">\n",
       "  <thead>\n",
       "    <tr style=\"text-align: right;\">\n",
       "      <th></th>\n",
       "      <th>country_name</th>\n",
       "      <th>country_code</th>\n",
       "      <th>indicator_name</th>\n",
       "      <th>indicator_code</th>\n",
       "      <th>value</th>\n",
       "      <th>year</th>\n",
       "    </tr>\n",
       "  </thead>\n",
       "  <tbody>\n",
       "    <tr>\n",
       "      <th>0</th>\n",
       "      <td>Chad</td>\n",
       "      <td>TCD</td>\n",
       "      <td>Enrolment in lower secondary education, both s...</td>\n",
       "      <td>UIS.E.2</td>\n",
       "      <td>321921.0</td>\n",
       "      <td>2012</td>\n",
       "    </tr>\n",
       "    <tr>\n",
       "      <th>1</th>\n",
       "      <td>Chad</td>\n",
       "      <td>TCD</td>\n",
       "      <td>Enrolment in upper secondary education, both s...</td>\n",
       "      <td>UIS.E.3</td>\n",
       "      <td>68809.0</td>\n",
       "      <td>2006</td>\n",
       "    </tr>\n",
       "    <tr>\n",
       "      <th>2</th>\n",
       "      <td>Chad</td>\n",
       "      <td>TCD</td>\n",
       "      <td>Enrolment in upper secondary education, both s...</td>\n",
       "      <td>UIS.E.3</td>\n",
       "      <td>30551.0</td>\n",
       "      <td>1999</td>\n",
       "    </tr>\n",
       "    <tr>\n",
       "      <th>3</th>\n",
       "      <td>Chad</td>\n",
       "      <td>TCD</td>\n",
       "      <td>Enrolment in upper secondary education, both s...</td>\n",
       "      <td>UIS.E.3</td>\n",
       "      <td>79784.0</td>\n",
       "      <td>2007</td>\n",
       "    </tr>\n",
       "    <tr>\n",
       "      <th>4</th>\n",
       "      <td>Chad</td>\n",
       "      <td>TCD</td>\n",
       "      <td>Repeaters in primary education, all grades, bo...</td>\n",
       "      <td>UIS.R.1</td>\n",
       "      <td>282699.0</td>\n",
       "      <td>2006</td>\n",
       "    </tr>\n",
       "  </tbody>\n",
       "</table>\n",
       "</div>"
      ],
      "text/plain": [
       "  country_name country_code  \\\n",
       "0         Chad          TCD   \n",
       "1         Chad          TCD   \n",
       "2         Chad          TCD   \n",
       "3         Chad          TCD   \n",
       "4         Chad          TCD   \n",
       "\n",
       "                                      indicator_name indicator_code     value  \\\n",
       "0  Enrolment in lower secondary education, both s...        UIS.E.2  321921.0   \n",
       "1  Enrolment in upper secondary education, both s...        UIS.E.3   68809.0   \n",
       "2  Enrolment in upper secondary education, both s...        UIS.E.3   30551.0   \n",
       "3  Enrolment in upper secondary education, both s...        UIS.E.3   79784.0   \n",
       "4  Repeaters in primary education, all grades, bo...        UIS.R.1  282699.0   \n",
       "\n",
       "   year  \n",
       "0  2012  \n",
       "1  2006  \n",
       "2  1999  \n",
       "3  2007  \n",
       "4  2006  "
      ]
     },
     "execution_count": 4,
     "metadata": {},
     "output_type": "execute_result"
    }
   ],
   "source": [
    "education_data.head('international_education')"
   ]
  },
  {
   "cell_type": "code",
   "execution_count": 5,
   "id": "2f311d21",
   "metadata": {
    "execution": {
     "iopub.execute_input": "2023-02-16T05:33:51.816258Z",
     "iopub.status.busy": "2023-02-16T05:33:51.815616Z",
     "iopub.status.idle": "2023-02-16T05:33:53.562240Z",
     "shell.execute_reply": "2023-02-16T05:33:53.560924Z"
    },
    "papermill": {
     "duration": 1.756152,
     "end_time": "2023-02-16T05:33:53.565074",
     "exception": false,
     "start_time": "2023-02-16T05:33:51.808922",
     "status": "completed"
    },
    "tags": []
   },
   "outputs": [
    {
     "name": "stderr",
     "output_type": "stream",
     "text": [
      "/opt/conda/lib/python3.7/site-packages/google/cloud/bigquery/client.py:440: UserWarning: Cannot create BigQuery Storage client, the dependency google-cloud-bigquery-storage is not installed.\n",
      "  \"Cannot create BigQuery Storage client, the dependency \"\n"
     ]
    },
    {
     "name": "stdout",
     "output_type": "stream",
     "text": [
      "            country_name  avg_ed_spending_pct\n",
      "0                   Cuba            12.837270\n",
      "1  Micronesia, Fed. Sts.            12.467750\n",
      "2        Solomon Islands            10.001080\n",
      "3                Moldova             8.372153\n",
      "4                Namibia             8.349610\n"
     ]
    },
    {
     "data": {
      "application/javascript": [
       "parent.postMessage({\"jupyterEvent\": \"custom.exercise_interaction\", \"data\": {\"outcomeType\": 1, \"valueTowardsCompletion\": 0.5, \"interactionType\": 1, \"questionType\": 2, \"questionId\": \"1_EducationSpending\", \"learnToolsVersion\": \"0.3.4\", \"failureMessage\": \"\", \"exceptionClass\": \"\", \"trace\": \"\"}}, \"*\")"
      ],
      "text/plain": [
       "<IPython.core.display.Javascript object>"
      ]
     },
     "metadata": {},
     "output_type": "display_data"
    },
    {
     "data": {
      "text/markdown": [
       "<span style=\"color:#33cc33\">Correct</span>"
      ],
      "text/plain": [
       "Correct"
      ]
     },
     "metadata": {},
     "output_type": "display_data"
    }
   ],
   "source": [
    "# Your Code Here\n",
    "country_spend_pct_query = \"\"\"\n",
    "  SELECT country_name, AVG(value) AS avg_ed_spending_pct\n",
    "    FROM `bigquery-public-data.world_bank_intl_education.international_education`\n",
    "    WHERE indicator_code = 'SE.XPD.TOTL.GD.ZS' \n",
    "      AND year BETWEEN 2010 AND 2017\n",
    "    GROUP BY country_name\n",
    "    ORDER BY avg_ed_spending_pct DESC\n",
    "\"\"\"\n",
    "\n",
    "country_spending_results = education_data.query_to_pandas_safe(country_spend_pct_query)\n",
    "\n",
    "print(country_spending_results.head())\n",
    "q_1.check()"
   ]
  },
  {
   "cell_type": "markdown",
   "id": "93173812",
   "metadata": {
    "papermill": {
     "duration": 0.005156,
     "end_time": "2023-02-16T05:33:53.575994",
     "exception": false,
     "start_time": "2023-02-16T05:33:53.570838",
     "status": "completed"
    },
    "tags": []
   },
   "source": [
    "For a hint or the solution, uncomment the appropriate line below."
   ]
  },
  {
   "cell_type": "code",
   "execution_count": 6,
   "id": "edb61162",
   "metadata": {
    "execution": {
     "iopub.execute_input": "2023-02-16T05:33:53.588783Z",
     "iopub.status.busy": "2023-02-16T05:33:53.588357Z",
     "iopub.status.idle": "2023-02-16T05:33:53.592689Z",
     "shell.execute_reply": "2023-02-16T05:33:53.591391Z"
    },
    "papermill": {
     "duration": 0.01364,
     "end_time": "2023-02-16T05:33:53.595074",
     "exception": false,
     "start_time": "2023-02-16T05:33:53.581434",
     "status": "completed"
    },
    "tags": []
   },
   "outputs": [],
   "source": [
    "#q_1.hint()\n",
    "#q_1.solution()"
   ]
  },
  {
   "cell_type": "markdown",
   "id": "5f11055d",
   "metadata": {
    "papermill": {
     "duration": 0.005139,
     "end_time": "2023-02-16T05:33:53.605815",
     "exception": false,
     "start_time": "2023-02-16T05:33:53.600676",
     "status": "completed"
    },
    "tags": []
   },
   "source": [
    "### 2) Identify interesting codes to explore\n",
    "\n",
    "The last question started by telling you to focus on rows with the code `SE.XPD.TOTL.GD.ZS`. But how would you find more interesting indicator codes to explore?\n",
    "\n",
    "There are 1000s of codes in the dataset, so it would be time consuming to review them all. But many codes are available for only a few countries. When browsing the options for different codes, you might restrict yourself to codes that are reported by many countries.\n",
    "\n",
    "Write a query below that selects the indicator code and indicator name for all codes with at least 175 rows in the year 2016.\n",
    "\n",
    "Requirements:\n",
    "- You should have one row for each indicator code.\n",
    "- The columns in your results should be called `indicator_code`, `indicator_name`, and `num_rows`.\n",
    "- Only select codes with 175 or more rows in the raw database (exactly 175 rows would be included).\n",
    "- To get both the `indicator_code` and `indicator_name` in your resulting DataFrame, you need to include both in your **SELECT** statement (in addition to a **COUNT()** aggregation). This requires you to include both in your **GROUP BY** clause.\n",
    "- Order from results most frequent to least frequent."
   ]
  },
  {
   "cell_type": "code",
   "execution_count": 7,
   "id": "964df7f2",
   "metadata": {
    "execution": {
     "iopub.execute_input": "2023-02-16T05:33:53.618707Z",
     "iopub.status.busy": "2023-02-16T05:33:53.618272Z",
     "iopub.status.idle": "2023-02-16T05:33:55.066516Z",
     "shell.execute_reply": "2023-02-16T05:33:55.065163Z"
    },
    "papermill": {
     "duration": 1.457444,
     "end_time": "2023-02-16T05:33:55.068712",
     "exception": false,
     "start_time": "2023-02-16T05:33:53.611268",
     "status": "completed"
    },
    "tags": []
   },
   "outputs": [
    {
     "name": "stderr",
     "output_type": "stream",
     "text": [
      "/opt/conda/lib/python3.7/site-packages/google/cloud/bigquery/client.py:440: UserWarning: Cannot create BigQuery Storage client, the dependency google-cloud-bigquery-storage is not installed.\n",
      "  \"Cannot create BigQuery Storage client, the dependency \"\n"
     ]
    },
    {
     "name": "stdout",
     "output_type": "stream",
     "text": [
      "   indicator_code                       indicator_name  num_rows\n",
      "0     SP.POP.GROW         Population growth (annual %)       232\n",
      "1     SP.POP.TOTL                    Population, total       232\n",
      "2  IT.NET.USER.P2      Internet users (per 100 people)       223\n",
      "3     SH.DYN.MORT  Mortality rate, under-5 (per 1,000)       213\n",
      "4  SP.POP.0014.TO         Population, ages 0-14, total       213\n"
     ]
    },
    {
     "data": {
      "application/javascript": [
       "parent.postMessage({\"jupyterEvent\": \"custom.exercise_interaction\", \"data\": {\"outcomeType\": 1, \"valueTowardsCompletion\": 0.5, \"interactionType\": 1, \"questionType\": 2, \"questionId\": \"2_FindInterestingCodes\", \"learnToolsVersion\": \"0.3.4\", \"failureMessage\": \"\", \"exceptionClass\": \"\", \"trace\": \"\"}}, \"*\")"
      ],
      "text/plain": [
       "<IPython.core.display.Javascript object>"
      ]
     },
     "metadata": {},
     "output_type": "display_data"
    },
    {
     "data": {
      "text/markdown": [
       "<span style=\"color:#33cc33\">Correct</span>"
      ],
      "text/plain": [
       "Correct"
      ]
     },
     "metadata": {},
     "output_type": "display_data"
    }
   ],
   "source": [
    "# Your Code Here\n",
    "code_count_query = \"\"\"\n",
    "    SELECT indicator_code, indicator_name, COUNT(1) AS num_rows\n",
    "      FROM `bigquery-public-data.world_bank_intl_education.international_education`\n",
    "      WHERE year = 2016\n",
    "      GROUP BY indicator_code, indicator_name\n",
    "      HAVING num_rows >= 175\n",
    "      ORDER BY num_rows DESC\n",
    "\"\"\"\n",
    "\n",
    "code_count_results = education_data.query_to_pandas_safe(code_count_query)\n",
    "\n",
    "print(code_count_results.head())\n",
    "q_2.check()"
   ]
  },
  {
   "cell_type": "markdown",
   "id": "ef1d74e4",
   "metadata": {
    "papermill": {
     "duration": 0.005457,
     "end_time": "2023-02-16T05:33:55.079995",
     "exception": false,
     "start_time": "2023-02-16T05:33:55.074538",
     "status": "completed"
    },
    "tags": []
   },
   "source": [
    "For a hint or the solution, uncomment the appropriate line below."
   ]
  },
  {
   "cell_type": "code",
   "execution_count": 8,
   "id": "497db498",
   "metadata": {
    "execution": {
     "iopub.execute_input": "2023-02-16T05:33:55.093345Z",
     "iopub.status.busy": "2023-02-16T05:33:55.092932Z",
     "iopub.status.idle": "2023-02-16T05:33:55.097394Z",
     "shell.execute_reply": "2023-02-16T05:33:55.096447Z"
    },
    "papermill": {
     "duration": 0.014172,
     "end_time": "2023-02-16T05:33:55.099900",
     "exception": false,
     "start_time": "2023-02-16T05:33:55.085728",
     "status": "completed"
    },
    "tags": []
   },
   "outputs": [],
   "source": [
    "#q_2.hint()\n",
    "#q_2.solution()"
   ]
  },
  {
   "cell_type": "markdown",
   "id": "645ef637",
   "metadata": {
    "papermill": {
     "duration": 0.005811,
     "end_time": "2023-02-16T05:33:55.112158",
     "exception": false,
     "start_time": "2023-02-16T05:33:55.106347",
     "status": "completed"
    },
    "tags": []
   },
   "source": [
    "# Keep Going\n",
    "**[Click here](https://www.kaggle.com/dansbecker/as-with)** to learn how to use **AS** and **WITH** to clean up your code and help you construct more complex queries."
   ]
  },
  {
   "cell_type": "markdown",
   "id": "3ed02108",
   "metadata": {
    "papermill": {
     "duration": 0.005701,
     "end_time": "2023-02-16T05:33:55.123998",
     "exception": false,
     "start_time": "2023-02-16T05:33:55.118297",
     "status": "completed"
    },
    "tags": []
   },
   "source": [
    "---\n",
    "\n",
    "\n",
    "\n",
    "\n",
    "*Have questions or comments? Visit the [course discussion forum](https://www.kaggle.com/learn/intro-to-sql/discussion) to chat with other learners.*"
   ]
  }
 ],
 "metadata": {
  "kernelspec": {
   "display_name": "Python 3",
   "language": "python",
   "name": "python3"
  },
  "language_info": {
   "codemirror_mode": {
    "name": "ipython",
    "version": 3
   },
   "file_extension": ".py",
   "mimetype": "text/x-python",
   "name": "python",
   "nbconvert_exporter": "python",
   "pygments_lexer": "ipython3",
   "version": "3.7.12"
  },
  "papermill": {
   "default_parameters": {},
   "duration": 17.846056,
   "end_time": "2023-02-16T05:33:55.853022",
   "environment_variables": {},
   "exception": null,
   "input_path": "__notebook__.ipynb",
   "output_path": "__notebook__.ipynb",
   "parameters": {},
   "start_time": "2023-02-16T05:33:38.006966",
   "version": "2.3.4"
  }
 },
 "nbformat": 4,
 "nbformat_minor": 5
}
