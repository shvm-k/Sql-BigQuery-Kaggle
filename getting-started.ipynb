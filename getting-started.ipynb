{
 "cells": [
  {
   "cell_type": "markdown",
   "id": "cb3f86c6",
   "metadata": {
    "papermill": {
     "duration": 0.00708,
     "end_time": "2023-02-16T05:21:32.046088",
     "exception": false,
     "start_time": "2023-02-16T05:21:32.039008",
     "status": "completed"
    },
    "tags": []
   },
   "source": [
    "**This notebook is an exercise in the [SQL](https://www.kaggle.com/learn/intro-to-sql) course.  You can reference the tutorial at [this link](https://www.kaggle.com/dansbecker/getting-started-with-sql-and-bigquery).**\n",
    "\n",
    "---\n"
   ]
  },
  {
   "cell_type": "markdown",
   "id": "eb6f8b74",
   "metadata": {
    "papermill": {
     "duration": 0.004453,
     "end_time": "2023-02-16T05:21:32.055455",
     "exception": false,
     "start_time": "2023-02-16T05:21:32.051002",
     "status": "completed"
    },
    "tags": []
   },
   "source": [
    "# Introduction\n",
    "\n",
    "The first test of your new data exploration skills uses data describing crime in the city of Chicago.\n",
    "\n",
    "Before you get started, run the following cell. It sets up the automated feedback system to review your answers."
   ]
  },
  {
   "cell_type": "code",
   "execution_count": 1,
   "id": "05323386",
   "metadata": {
    "execution": {
     "iopub.execute_input": "2023-02-16T05:21:32.067499Z",
     "iopub.status.busy": "2023-02-16T05:21:32.067083Z",
     "iopub.status.idle": "2023-02-16T05:21:32.736330Z",
     "shell.execute_reply": "2023-02-16T05:21:32.734867Z"
    },
    "papermill": {
     "duration": 0.678696,
     "end_time": "2023-02-16T05:21:32.739542",
     "exception": false,
     "start_time": "2023-02-16T05:21:32.060846",
     "status": "completed"
    },
    "tags": []
   },
   "outputs": [
    {
     "name": "stdout",
     "output_type": "stream",
     "text": [
      "Using Kaggle's public dataset BigQuery integration.\n",
      "Setup Complete\n"
     ]
    }
   ],
   "source": [
    "# Set up feedack system\n",
    "from learntools.core import binder\n",
    "binder.bind(globals())\n",
    "from learntools.sql.ex1 import *\n",
    "print(\"Setup Complete\")"
   ]
  },
  {
   "cell_type": "markdown",
   "id": "9d5551af",
   "metadata": {
    "papermill": {
     "duration": 0.0044,
     "end_time": "2023-02-16T05:21:32.748837",
     "exception": false,
     "start_time": "2023-02-16T05:21:32.744437",
     "status": "completed"
    },
    "tags": []
   },
   "source": [
    "Use the next code cell to fetch the dataset."
   ]
  },
  {
   "cell_type": "code",
   "execution_count": 2,
   "id": "ba627e93",
   "metadata": {
    "execution": {
     "iopub.execute_input": "2023-02-16T05:21:32.759878Z",
     "iopub.status.busy": "2023-02-16T05:21:32.759512Z",
     "iopub.status.idle": "2023-02-16T05:21:33.040094Z",
     "shell.execute_reply": "2023-02-16T05:21:33.038820Z"
    },
    "papermill": {
     "duration": 0.28903,
     "end_time": "2023-02-16T05:21:33.042564",
     "exception": false,
     "start_time": "2023-02-16T05:21:32.753534",
     "status": "completed"
    },
    "tags": []
   },
   "outputs": [
    {
     "name": "stdout",
     "output_type": "stream",
     "text": [
      "Using Kaggle's public dataset BigQuery integration.\n"
     ]
    }
   ],
   "source": [
    "from google.cloud import bigquery\n",
    "\n",
    "# Create a \"Client\" object\n",
    "client = bigquery.Client()\n",
    "\n",
    "# Construct a reference to the \"chicago_crime\" dataset\n",
    "dataset_ref = client.dataset(\"chicago_crime\", project=\"bigquery-public-data\")\n",
    "\n",
    "# API request - fetch the dataset\n",
    "dataset = client.get_dataset(dataset_ref)"
   ]
  },
  {
   "cell_type": "markdown",
   "id": "07c4f79b",
   "metadata": {
    "papermill": {
     "duration": 0.004666,
     "end_time": "2023-02-16T05:21:33.052369",
     "exception": false,
     "start_time": "2023-02-16T05:21:33.047703",
     "status": "completed"
    },
    "tags": []
   },
   "source": [
    "# Exercises\n",
    "\n",
    "### 1) Count tables in the dataset\n",
    "\n",
    "How many tables are in the Chicago Crime dataset?"
   ]
  },
  {
   "cell_type": "code",
   "execution_count": 3,
   "id": "08e06cf7",
   "metadata": {
    "execution": {
     "iopub.execute_input": "2023-02-16T05:21:33.064168Z",
     "iopub.status.busy": "2023-02-16T05:21:33.063541Z",
     "iopub.status.idle": "2023-02-16T05:21:33.243370Z",
     "shell.execute_reply": "2023-02-16T05:21:33.242632Z"
    },
    "papermill": {
     "duration": 0.18829,
     "end_time": "2023-02-16T05:21:33.245599",
     "exception": false,
     "start_time": "2023-02-16T05:21:33.057309",
     "status": "completed"
    },
    "tags": []
   },
   "outputs": [
    {
     "name": "stdout",
     "output_type": "stream",
     "text": [
      "['crime']\n"
     ]
    }
   ],
   "source": [
    "# Write the code you need here to figure out the answer\n",
    "table_ids = [x.table_id for x in client.list_tables(dataset)]\n",
    "print(table_ids)"
   ]
  },
  {
   "cell_type": "code",
   "execution_count": 4,
   "id": "7467e86f",
   "metadata": {
    "execution": {
     "iopub.execute_input": "2023-02-16T05:21:33.260613Z",
     "iopub.status.busy": "2023-02-16T05:21:33.259997Z",
     "iopub.status.idle": "2023-02-16T05:21:33.269936Z",
     "shell.execute_reply": "2023-02-16T05:21:33.268625Z"
    },
    "papermill": {
     "duration": 0.018596,
     "end_time": "2023-02-16T05:21:33.271822",
     "exception": false,
     "start_time": "2023-02-16T05:21:33.253226",
     "status": "completed"
    },
    "tags": []
   },
   "outputs": [
    {
     "data": {
      "application/javascript": [
       "parent.postMessage({\"jupyterEvent\": \"custom.exercise_interaction\", \"data\": {\"outcomeType\": 1, \"valueTowardsCompletion\": 0.3333333333333333, \"interactionType\": 1, \"questionType\": 1, \"questionId\": \"1_CountTables\", \"learnToolsVersion\": \"0.3.4\", \"failureMessage\": \"\", \"exceptionClass\": \"\", \"trace\": \"\"}}, \"*\")"
      ],
      "text/plain": [
       "<IPython.core.display.Javascript object>"
      ]
     },
     "metadata": {},
     "output_type": "display_data"
    },
    {
     "data": {
      "text/markdown": [
       "<span style=\"color:#33cc33\">Correct</span>"
      ],
      "text/plain": [
       "Correct"
      ]
     },
     "metadata": {},
     "output_type": "display_data"
    }
   ],
   "source": [
    "num_tables = len(table_ids)  # Store the answer as num_tables and then run this cell\n",
    "\n",
    "q_1.check()"
   ]
  },
  {
   "cell_type": "markdown",
   "id": "ec6e47d6",
   "metadata": {
    "papermill": {
     "duration": 0.004784,
     "end_time": "2023-02-16T05:21:33.282034",
     "exception": false,
     "start_time": "2023-02-16T05:21:33.277250",
     "status": "completed"
    },
    "tags": []
   },
   "source": [
    "For a hint or the solution, uncomment the appropriate line below."
   ]
  },
  {
   "cell_type": "code",
   "execution_count": 5,
   "id": "8951cd8f",
   "metadata": {
    "execution": {
     "iopub.execute_input": "2023-02-16T05:21:33.293508Z",
     "iopub.status.busy": "2023-02-16T05:21:33.293161Z",
     "iopub.status.idle": "2023-02-16T05:21:33.297326Z",
     "shell.execute_reply": "2023-02-16T05:21:33.296242Z"
    },
    "papermill": {
     "duration": 0.012396,
     "end_time": "2023-02-16T05:21:33.299343",
     "exception": false,
     "start_time": "2023-02-16T05:21:33.286947",
     "status": "completed"
    },
    "tags": []
   },
   "outputs": [],
   "source": [
    "#q_1.hint()\n",
    "#q_1.solution()"
   ]
  },
  {
   "cell_type": "markdown",
   "id": "0aa9e37f",
   "metadata": {
    "papermill": {
     "duration": 0.004928,
     "end_time": "2023-02-16T05:21:33.309687",
     "exception": false,
     "start_time": "2023-02-16T05:21:33.304759",
     "status": "completed"
    },
    "tags": []
   },
   "source": [
    "### 2) Explore the table schema\n",
    "\n",
    "How many columns in the `crime` table have `TIMESTAMP` data?"
   ]
  },
  {
   "cell_type": "code",
   "execution_count": 6,
   "id": "6355d4f3",
   "metadata": {
    "execution": {
     "iopub.execute_input": "2023-02-16T05:21:33.322673Z",
     "iopub.status.busy": "2023-02-16T05:21:33.322356Z",
     "iopub.status.idle": "2023-02-16T05:21:33.561571Z",
     "shell.execute_reply": "2023-02-16T05:21:33.560586Z"
    },
    "papermill": {
     "duration": 0.248451,
     "end_time": "2023-02-16T05:21:33.563941",
     "exception": false,
     "start_time": "2023-02-16T05:21:33.315490",
     "status": "completed"
    },
    "tags": []
   },
   "outputs": [
    {
     "data": {
      "text/plain": [
       "[SchemaField('unique_key', 'INTEGER', 'REQUIRED', None, (), None),\n",
       " SchemaField('case_number', 'STRING', 'NULLABLE', None, (), None),\n",
       " SchemaField('date', 'TIMESTAMP', 'NULLABLE', None, (), None),\n",
       " SchemaField('block', 'STRING', 'NULLABLE', None, (), None),\n",
       " SchemaField('iucr', 'STRING', 'NULLABLE', None, (), None),\n",
       " SchemaField('primary_type', 'STRING', 'NULLABLE', None, (), None),\n",
       " SchemaField('description', 'STRING', 'NULLABLE', None, (), None),\n",
       " SchemaField('location_description', 'STRING', 'NULLABLE', None, (), None),\n",
       " SchemaField('arrest', 'BOOLEAN', 'NULLABLE', None, (), None),\n",
       " SchemaField('domestic', 'BOOLEAN', 'NULLABLE', None, (), None),\n",
       " SchemaField('beat', 'INTEGER', 'NULLABLE', None, (), None),\n",
       " SchemaField('district', 'INTEGER', 'NULLABLE', None, (), None),\n",
       " SchemaField('ward', 'INTEGER', 'NULLABLE', None, (), None),\n",
       " SchemaField('community_area', 'INTEGER', 'NULLABLE', None, (), None),\n",
       " SchemaField('fbi_code', 'STRING', 'NULLABLE', None, (), None),\n",
       " SchemaField('x_coordinate', 'FLOAT', 'NULLABLE', None, (), None),\n",
       " SchemaField('y_coordinate', 'FLOAT', 'NULLABLE', None, (), None),\n",
       " SchemaField('year', 'INTEGER', 'NULLABLE', None, (), None),\n",
       " SchemaField('updated_on', 'TIMESTAMP', 'NULLABLE', None, (), None),\n",
       " SchemaField('latitude', 'FLOAT', 'NULLABLE', None, (), None),\n",
       " SchemaField('longitude', 'FLOAT', 'NULLABLE', None, (), None),\n",
       " SchemaField('location', 'STRING', 'NULLABLE', None, (), None)]"
      ]
     },
     "execution_count": 6,
     "metadata": {},
     "output_type": "execute_result"
    }
   ],
   "source": [
    "# Write the code to figure out the answer\n",
    "# Construct a reference to the \"crime\" table\n",
    "table_ref = dataset_ref.table(\"crime\")\n",
    "\n",
    "# API request - fetch the table\n",
    "table = client.get_table(table_ref)\n",
    "\n",
    "# Print information on all the columns in the \"crime\" table in the \"chicago_crime\" dataset\n",
    "table.schema"
   ]
  },
  {
   "cell_type": "code",
   "execution_count": 7,
   "id": "4a88e13a",
   "metadata": {
    "execution": {
     "iopub.execute_input": "2023-02-16T05:21:33.577730Z",
     "iopub.status.busy": "2023-02-16T05:21:33.576851Z",
     "iopub.status.idle": "2023-02-16T05:21:33.584165Z",
     "shell.execute_reply": "2023-02-16T05:21:33.583517Z"
    },
    "papermill": {
     "duration": 0.016099,
     "end_time": "2023-02-16T05:21:33.585844",
     "exception": false,
     "start_time": "2023-02-16T05:21:33.569745",
     "status": "completed"
    },
    "tags": []
   },
   "outputs": [
    {
     "data": {
      "application/javascript": [
       "parent.postMessage({\"jupyterEvent\": \"custom.exercise_interaction\", \"data\": {\"outcomeType\": 1, \"valueTowardsCompletion\": 0.3333333333333333, \"interactionType\": 1, \"questionType\": 1, \"questionId\": \"2_CountTimestampFields\", \"learnToolsVersion\": \"0.3.4\", \"failureMessage\": \"\", \"exceptionClass\": \"\", \"trace\": \"\"}}, \"*\")"
      ],
      "text/plain": [
       "<IPython.core.display.Javascript object>"
      ]
     },
     "metadata": {},
     "output_type": "display_data"
    },
    {
     "data": {
      "text/markdown": [
       "<span style=\"color:#33cc33\">Correct</span>"
      ],
      "text/plain": [
       "Correct"
      ]
     },
     "metadata": {},
     "output_type": "display_data"
    }
   ],
   "source": [
    "# List of field of type TIMESTAMP\n",
    "timestamp_fields = [x for x in table.schema if x.field_type == 'TIMESTAMP']\n",
    "num_timestamp_fields = len(timestamp_fields) # Put your answer here\n",
    "\n",
    "q_2.check()"
   ]
  },
  {
   "cell_type": "markdown",
   "id": "36649772",
   "metadata": {
    "papermill": {
     "duration": 0.005822,
     "end_time": "2023-02-16T05:21:33.597440",
     "exception": false,
     "start_time": "2023-02-16T05:21:33.591618",
     "status": "completed"
    },
    "tags": []
   },
   "source": [
    "For a hint or the solution, uncomment the appropriate line below."
   ]
  },
  {
   "cell_type": "code",
   "execution_count": 8,
   "id": "56818b4b",
   "metadata": {
    "execution": {
     "iopub.execute_input": "2023-02-16T05:21:33.611963Z",
     "iopub.status.busy": "2023-02-16T05:21:33.610475Z",
     "iopub.status.idle": "2023-02-16T05:21:33.615701Z",
     "shell.execute_reply": "2023-02-16T05:21:33.614252Z"
    },
    "papermill": {
     "duration": 0.014702,
     "end_time": "2023-02-16T05:21:33.618104",
     "exception": false,
     "start_time": "2023-02-16T05:21:33.603402",
     "status": "completed"
    },
    "tags": []
   },
   "outputs": [],
   "source": [
    "#q_2.hint()\n",
    "#q_2.solution()"
   ]
  },
  {
   "cell_type": "markdown",
   "id": "5ff924c5",
   "metadata": {
    "papermill": {
     "duration": 0.005533,
     "end_time": "2023-02-16T05:21:33.629496",
     "exception": false,
     "start_time": "2023-02-16T05:21:33.623963",
     "status": "completed"
    },
    "tags": []
   },
   "source": [
    "### 3) Create a crime map\n",
    "\n",
    "If you wanted to create a map with a dot at the location of each crime, what are the names of the two fields you likely need to pull out of the `crime` table to plot the crimes on a map?"
   ]
  },
  {
   "cell_type": "code",
   "execution_count": 9,
   "id": "e61316d4",
   "metadata": {
    "execution": {
     "iopub.execute_input": "2023-02-16T05:21:33.642530Z",
     "iopub.status.busy": "2023-02-16T05:21:33.642185Z",
     "iopub.status.idle": "2023-02-16T05:21:34.089869Z",
     "shell.execute_reply": "2023-02-16T05:21:34.088168Z"
    },
    "papermill": {
     "duration": 0.45681,
     "end_time": "2023-02-16T05:21:34.092175",
     "exception": false,
     "start_time": "2023-02-16T05:21:33.635365",
     "status": "completed"
    },
    "tags": []
   },
   "outputs": [
    {
     "name": "stderr",
     "output_type": "stream",
     "text": [
      "/opt/conda/lib/python3.7/site-packages/ipykernel_launcher.py:2: UserWarning: Cannot use bqstorage_client if max_results is set, reverting to fetching data with the tabledata.list endpoint.\n",
      "  \n"
     ]
    },
    {
     "data": {
      "text/html": [
       "<div>\n",
       "<style scoped>\n",
       "    .dataframe tbody tr th:only-of-type {\n",
       "        vertical-align: middle;\n",
       "    }\n",
       "\n",
       "    .dataframe tbody tr th {\n",
       "        vertical-align: top;\n",
       "    }\n",
       "\n",
       "    .dataframe thead th {\n",
       "        text-align: right;\n",
       "    }\n",
       "</style>\n",
       "<table border=\"1\" class=\"dataframe\">\n",
       "  <thead>\n",
       "    <tr style=\"text-align: right;\">\n",
       "      <th></th>\n",
       "      <th>unique_key</th>\n",
       "      <th>case_number</th>\n",
       "      <th>date</th>\n",
       "      <th>block</th>\n",
       "      <th>iucr</th>\n",
       "      <th>primary_type</th>\n",
       "      <th>description</th>\n",
       "      <th>location_description</th>\n",
       "      <th>arrest</th>\n",
       "      <th>domestic</th>\n",
       "      <th>...</th>\n",
       "      <th>ward</th>\n",
       "      <th>community_area</th>\n",
       "      <th>fbi_code</th>\n",
       "      <th>x_coordinate</th>\n",
       "      <th>y_coordinate</th>\n",
       "      <th>year</th>\n",
       "      <th>updated_on</th>\n",
       "      <th>latitude</th>\n",
       "      <th>longitude</th>\n",
       "      <th>location</th>\n",
       "    </tr>\n",
       "  </thead>\n",
       "  <tbody>\n",
       "    <tr>\n",
       "      <th>0</th>\n",
       "      <td>20294</td>\n",
       "      <td>HV178038</td>\n",
       "      <td>2012-02-29 06:51:00+00:00</td>\n",
       "      <td>005XX E 104TH PL</td>\n",
       "      <td>0110</td>\n",
       "      <td>HOMICIDE</td>\n",
       "      <td>FIRST DEGREE MURDER</td>\n",
       "      <td>HOUSE</td>\n",
       "      <td>False</td>\n",
       "      <td>False</td>\n",
       "      <td>...</td>\n",
       "      <td>9</td>\n",
       "      <td>49</td>\n",
       "      <td>01A</td>\n",
       "      <td>1181956.0</td>\n",
       "      <td>1835794.0</td>\n",
       "      <td>2012</td>\n",
       "      <td>2022-08-31 04:51:30+00:00</td>\n",
       "      <td>41.704641</td>\n",
       "      <td>-87.609313</td>\n",
       "      <td>(41.704641317, -87.609312999)</td>\n",
       "    </tr>\n",
       "    <tr>\n",
       "      <th>1</th>\n",
       "      <td>1877</td>\n",
       "      <td>HH769051</td>\n",
       "      <td>2002-11-18 02:50:00+00:00</td>\n",
       "      <td>104XX S PRAIRIE AVE</td>\n",
       "      <td>0110</td>\n",
       "      <td>HOMICIDE</td>\n",
       "      <td>FIRST DEGREE MURDER</td>\n",
       "      <td>HOUSE</td>\n",
       "      <td>True</td>\n",
       "      <td>True</td>\n",
       "      <td>...</td>\n",
       "      <td>9</td>\n",
       "      <td>49</td>\n",
       "      <td>01A</td>\n",
       "      <td>1179761.0</td>\n",
       "      <td>1835736.0</td>\n",
       "      <td>2002</td>\n",
       "      <td>2022-09-18 04:45:51+00:00</td>\n",
       "      <td>41.704533</td>\n",
       "      <td>-87.617352</td>\n",
       "      <td>(41.704532517, -87.61735248)</td>\n",
       "    </tr>\n",
       "    <tr>\n",
       "      <th>2</th>\n",
       "      <td>20625</td>\n",
       "      <td>HV484609</td>\n",
       "      <td>2012-09-20 11:13:00+00:00</td>\n",
       "      <td>002XX W 106TH ST</td>\n",
       "      <td>0110</td>\n",
       "      <td>HOMICIDE</td>\n",
       "      <td>FIRST DEGREE MURDER</td>\n",
       "      <td>STREET</td>\n",
       "      <td>False</td>\n",
       "      <td>False</td>\n",
       "      <td>...</td>\n",
       "      <td>34</td>\n",
       "      <td>49</td>\n",
       "      <td>01A</td>\n",
       "      <td>1176557.0</td>\n",
       "      <td>1834650.0</td>\n",
       "      <td>2012</td>\n",
       "      <td>2022-09-18 04:45:51+00:00</td>\n",
       "      <td>41.701625</td>\n",
       "      <td>-87.629118</td>\n",
       "      <td>(41.701624878, -87.629117507)</td>\n",
       "    </tr>\n",
       "    <tr>\n",
       "      <th>3</th>\n",
       "      <td>20216</td>\n",
       "      <td>HT651443</td>\n",
       "      <td>2011-12-29 11:20:00+00:00</td>\n",
       "      <td>007XX E 105TH ST</td>\n",
       "      <td>0110</td>\n",
       "      <td>HOMICIDE</td>\n",
       "      <td>FIRST DEGREE MURDER</td>\n",
       "      <td>APARTMENT</td>\n",
       "      <td>False</td>\n",
       "      <td>False</td>\n",
       "      <td>...</td>\n",
       "      <td>9</td>\n",
       "      <td>50</td>\n",
       "      <td>01A</td>\n",
       "      <td>1183056.0</td>\n",
       "      <td>1835492.0</td>\n",
       "      <td>2011</td>\n",
       "      <td>2022-09-18 04:45:51+00:00</td>\n",
       "      <td>41.703787</td>\n",
       "      <td>-87.605294</td>\n",
       "      <td>(41.703787141, -87.605294344)</td>\n",
       "    </tr>\n",
       "    <tr>\n",
       "      <th>4</th>\n",
       "      <td>23026</td>\n",
       "      <td>HZ554936</td>\n",
       "      <td>2016-12-17 12:40:00+00:00</td>\n",
       "      <td>001XX W 105TH ST</td>\n",
       "      <td>0110</td>\n",
       "      <td>HOMICIDE</td>\n",
       "      <td>FIRST DEGREE MURDER</td>\n",
       "      <td>HOUSE</td>\n",
       "      <td>True</td>\n",
       "      <td>False</td>\n",
       "      <td>...</td>\n",
       "      <td>34</td>\n",
       "      <td>49</td>\n",
       "      <td>01A</td>\n",
       "      <td>1177249.0</td>\n",
       "      <td>1835331.0</td>\n",
       "      <td>2016</td>\n",
       "      <td>2022-09-18 04:45:51+00:00</td>\n",
       "      <td>41.703478</td>\n",
       "      <td>-87.626563</td>\n",
       "      <td>(41.703478083, -87.626563168)</td>\n",
       "    </tr>\n",
       "  </tbody>\n",
       "</table>\n",
       "<p>5 rows × 22 columns</p>\n",
       "</div>"
      ],
      "text/plain": [
       "   unique_key case_number                      date                block  \\\n",
       "0       20294    HV178038 2012-02-29 06:51:00+00:00     005XX E 104TH PL   \n",
       "1        1877    HH769051 2002-11-18 02:50:00+00:00  104XX S PRAIRIE AVE   \n",
       "2       20625    HV484609 2012-09-20 11:13:00+00:00     002XX W 106TH ST   \n",
       "3       20216    HT651443 2011-12-29 11:20:00+00:00     007XX E 105TH ST   \n",
       "4       23026    HZ554936 2016-12-17 12:40:00+00:00     001XX W 105TH ST   \n",
       "\n",
       "   iucr primary_type          description location_description  arrest  \\\n",
       "0  0110     HOMICIDE  FIRST DEGREE MURDER                HOUSE   False   \n",
       "1  0110     HOMICIDE  FIRST DEGREE MURDER                HOUSE    True   \n",
       "2  0110     HOMICIDE  FIRST DEGREE MURDER               STREET   False   \n",
       "3  0110     HOMICIDE  FIRST DEGREE MURDER            APARTMENT   False   \n",
       "4  0110     HOMICIDE  FIRST DEGREE MURDER                HOUSE    True   \n",
       "\n",
       "   domestic  ...  ward  community_area  fbi_code  x_coordinate y_coordinate  \\\n",
       "0     False  ...     9              49       01A     1181956.0    1835794.0   \n",
       "1      True  ...     9              49       01A     1179761.0    1835736.0   \n",
       "2     False  ...    34              49       01A     1176557.0    1834650.0   \n",
       "3     False  ...     9              50       01A     1183056.0    1835492.0   \n",
       "4     False  ...    34              49       01A     1177249.0    1835331.0   \n",
       "\n",
       "   year                updated_on   latitude  longitude  \\\n",
       "0  2012 2022-08-31 04:51:30+00:00  41.704641 -87.609313   \n",
       "1  2002 2022-09-18 04:45:51+00:00  41.704533 -87.617352   \n",
       "2  2012 2022-09-18 04:45:51+00:00  41.701625 -87.629118   \n",
       "3  2011 2022-09-18 04:45:51+00:00  41.703787 -87.605294   \n",
       "4  2016 2022-09-18 04:45:51+00:00  41.703478 -87.626563   \n",
       "\n",
       "                        location  \n",
       "0  (41.704641317, -87.609312999)  \n",
       "1   (41.704532517, -87.61735248)  \n",
       "2  (41.701624878, -87.629117507)  \n",
       "3  (41.703787141, -87.605294344)  \n",
       "4  (41.703478083, -87.626563168)  \n",
       "\n",
       "[5 rows x 22 columns]"
      ]
     },
     "execution_count": 9,
     "metadata": {},
     "output_type": "execute_result"
    }
   ],
   "source": [
    "# Write the code here to explore the data so you can find the answer\n",
    "client.list_rows(table, max_results=5).to_dataframe()"
   ]
  },
  {
   "cell_type": "code",
   "execution_count": 10,
   "id": "0b8cc09c",
   "metadata": {
    "execution": {
     "iopub.execute_input": "2023-02-16T05:21:34.106563Z",
     "iopub.status.busy": "2023-02-16T05:21:34.106194Z",
     "iopub.status.idle": "2023-02-16T05:21:34.114940Z",
     "shell.execute_reply": "2023-02-16T05:21:34.114228Z"
    },
    "papermill": {
     "duration": 0.018674,
     "end_time": "2023-02-16T05:21:34.117149",
     "exception": false,
     "start_time": "2023-02-16T05:21:34.098475",
     "status": "completed"
    },
    "tags": []
   },
   "outputs": [
    {
     "data": {
      "application/javascript": [
       "parent.postMessage({\"jupyterEvent\": \"custom.exercise_interaction\", \"data\": {\"outcomeType\": 1, \"valueTowardsCompletion\": 0.3333333333333333, \"interactionType\": 1, \"questionType\": 2, \"questionId\": \"3_IdentifyFieldsForPlotting\", \"learnToolsVersion\": \"0.3.4\", \"failureMessage\": \"\", \"exceptionClass\": \"\", \"trace\": \"\"}}, \"*\")"
      ],
      "text/plain": [
       "<IPython.core.display.Javascript object>"
      ]
     },
     "metadata": {},
     "output_type": "display_data"
    },
    {
     "data": {
      "text/markdown": [
       "<span style=\"color:#33cc33\">Correct</span>"
      ],
      "text/plain": [
       "Correct"
      ]
     },
     "metadata": {},
     "output_type": "display_data"
    }
   ],
   "source": [
    "fields_for_plotting = ['latitude', 'longitude'] # Put your answers here\n",
    "\n",
    "q_3.check()"
   ]
  },
  {
   "cell_type": "markdown",
   "id": "bd67c9f7",
   "metadata": {
    "papermill": {
     "duration": 0.00658,
     "end_time": "2023-02-16T05:21:34.130225",
     "exception": false,
     "start_time": "2023-02-16T05:21:34.123645",
     "status": "completed"
    },
    "tags": []
   },
   "source": [
    "For a hint or the solution, uncomment the appropriate line below."
   ]
  },
  {
   "cell_type": "code",
   "execution_count": 11,
   "id": "4e916fc6",
   "metadata": {
    "execution": {
     "iopub.execute_input": "2023-02-16T05:21:34.145583Z",
     "iopub.status.busy": "2023-02-16T05:21:34.144096Z",
     "iopub.status.idle": "2023-02-16T05:21:34.149592Z",
     "shell.execute_reply": "2023-02-16T05:21:34.148567Z"
    },
    "papermill": {
     "duration": 0.015326,
     "end_time": "2023-02-16T05:21:34.151809",
     "exception": false,
     "start_time": "2023-02-16T05:21:34.136483",
     "status": "completed"
    },
    "tags": []
   },
   "outputs": [],
   "source": [
    "#q_3.hint()\n",
    "#q_3.solution()"
   ]
  },
  {
   "cell_type": "markdown",
   "id": "f541b4be",
   "metadata": {
    "papermill": {
     "duration": 0.006434,
     "end_time": "2023-02-16T05:21:34.164860",
     "exception": false,
     "start_time": "2023-02-16T05:21:34.158426",
     "status": "completed"
    },
    "tags": []
   },
   "source": [
    "Thinking about the question above, there are a few columns that appear to have geographic data. Look at a few values (with the `list_rows()` command) to see if you can determine their relationship.  Two columns will still be hard to interpret. But it should be obvious how the `location` column relates to `latitude` and `longitude`."
   ]
  },
  {
   "cell_type": "code",
   "execution_count": 12,
   "id": "5d7eb2ac",
   "metadata": {
    "execution": {
     "iopub.execute_input": "2023-02-16T05:21:34.179427Z",
     "iopub.status.busy": "2023-02-16T05:21:34.178438Z",
     "iopub.status.idle": "2023-02-16T05:21:34.409686Z",
     "shell.execute_reply": "2023-02-16T05:21:34.407786Z"
    },
    "papermill": {
     "duration": 0.240989,
     "end_time": "2023-02-16T05:21:34.412195",
     "exception": false,
     "start_time": "2023-02-16T05:21:34.171206",
     "status": "completed"
    },
    "tags": []
   },
   "outputs": [
    {
     "name": "stderr",
     "output_type": "stream",
     "text": [
      "/opt/conda/lib/python3.7/site-packages/ipykernel_launcher.py:2: UserWarning: Cannot use bqstorage_client if max_results is set, reverting to fetching data with the tabledata.list endpoint.\n",
      "  \n"
     ]
    },
    {
     "data": {
      "text/html": [
       "<div>\n",
       "<style scoped>\n",
       "    .dataframe tbody tr th:only-of-type {\n",
       "        vertical-align: middle;\n",
       "    }\n",
       "\n",
       "    .dataframe tbody tr th {\n",
       "        vertical-align: top;\n",
       "    }\n",
       "\n",
       "    .dataframe thead th {\n",
       "        text-align: right;\n",
       "    }\n",
       "</style>\n",
       "<table border=\"1\" class=\"dataframe\">\n",
       "  <thead>\n",
       "    <tr style=\"text-align: right;\">\n",
       "      <th></th>\n",
       "      <th>latitude</th>\n",
       "      <th>longitude</th>\n",
       "      <th>location</th>\n",
       "    </tr>\n",
       "  </thead>\n",
       "  <tbody>\n",
       "    <tr>\n",
       "      <th>0</th>\n",
       "      <td>41.704641</td>\n",
       "      <td>-87.609313</td>\n",
       "      <td>(41.704641317, -87.609312999)</td>\n",
       "    </tr>\n",
       "    <tr>\n",
       "      <th>1</th>\n",
       "      <td>41.704533</td>\n",
       "      <td>-87.617352</td>\n",
       "      <td>(41.704532517, -87.61735248)</td>\n",
       "    </tr>\n",
       "    <tr>\n",
       "      <th>2</th>\n",
       "      <td>41.701625</td>\n",
       "      <td>-87.629118</td>\n",
       "      <td>(41.701624878, -87.629117507)</td>\n",
       "    </tr>\n",
       "    <tr>\n",
       "      <th>3</th>\n",
       "      <td>41.703787</td>\n",
       "      <td>-87.605294</td>\n",
       "      <td>(41.703787141, -87.605294344)</td>\n",
       "    </tr>\n",
       "    <tr>\n",
       "      <th>4</th>\n",
       "      <td>41.703478</td>\n",
       "      <td>-87.626563</td>\n",
       "      <td>(41.703478083, -87.626563168)</td>\n",
       "    </tr>\n",
       "  </tbody>\n",
       "</table>\n",
       "</div>"
      ],
      "text/plain": [
       "    latitude  longitude                       location\n",
       "0  41.704641 -87.609313  (41.704641317, -87.609312999)\n",
       "1  41.704533 -87.617352   (41.704532517, -87.61735248)\n",
       "2  41.701625 -87.629118  (41.701624878, -87.629117507)\n",
       "3  41.703787 -87.605294  (41.703787141, -87.605294344)\n",
       "4  41.703478 -87.626563  (41.703478083, -87.626563168)"
      ]
     },
     "execution_count": 12,
     "metadata": {},
     "output_type": "execute_result"
    }
   ],
   "source": [
    "# Scratch space for your code\n",
    "client.list_rows(table, selected_fields=table.schema[-3:], max_results=5).to_dataframe()"
   ]
  },
  {
   "cell_type": "markdown",
   "id": "b64d27df",
   "metadata": {
    "papermill": {
     "duration": 0.006261,
     "end_time": "2023-02-16T05:21:34.425824",
     "exception": false,
     "start_time": "2023-02-16T05:21:34.419563",
     "status": "completed"
    },
    "tags": []
   },
   "source": [
    "# Keep going\n",
    "\n",
    "You've looked at the schema, but you haven't yet done anything exciting with the data itself. Things get more interesting when you get to the data, so keep going to **[write your first SQL query](https://www.kaggle.com/dansbecker/select-from-where).**"
   ]
  },
  {
   "cell_type": "markdown",
   "id": "ca50cb68",
   "metadata": {
    "papermill": {
     "duration": 0.005767,
     "end_time": "2023-02-16T05:21:34.438041",
     "exception": false,
     "start_time": "2023-02-16T05:21:34.432274",
     "status": "completed"
    },
    "tags": []
   },
   "source": [
    "---\n",
    "\n",
    "\n",
    "\n",
    "\n",
    "*Have questions or comments? Visit the [course discussion forum](https://www.kaggle.com/learn/intro-to-sql/discussion) to chat with other learners.*"
   ]
  }
 ],
 "metadata": {
  "kernelspec": {
   "display_name": "Python 3",
   "language": "python",
   "name": "python3"
  },
  "language_info": {
   "codemirror_mode": {
    "name": "ipython",
    "version": 3
   },
   "file_extension": ".py",
   "mimetype": "text/x-python",
   "name": "python",
   "nbconvert_exporter": "python",
   "pygments_lexer": "ipython3",
   "version": "3.7.12"
  },
  "papermill": {
   "default_parameters": {},
   "duration": 10.780968,
   "end_time": "2023-02-16T05:21:35.066461",
   "environment_variables": {},
   "exception": null,
   "input_path": "__notebook__.ipynb",
   "output_path": "__notebook__.ipynb",
   "parameters": {},
   "start_time": "2023-02-16T05:21:24.285493",
   "version": "2.3.4"
  }
 },
 "nbformat": 4,
 "nbformat_minor": 5
}
