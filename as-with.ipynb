{
 "cells": [
  {
   "cell_type": "markdown",
   "id": "6b05bc99",
   "metadata": {
    "papermill": {
     "duration": 0.007486,
     "end_time": "2023-02-16T05:49:34.153052",
     "exception": false,
     "start_time": "2023-02-16T05:49:34.145566",
     "status": "completed"
    },
    "tags": []
   },
   "source": [
    "**This notebook is an exercise in the [SQL](https://www.kaggle.com/learn/intro-to-sql) course.  You can reference the tutorial at [this link](https://www.kaggle.com/dansbecker/as-with).**\n",
    "\n",
    "---\n"
   ]
  },
  {
   "cell_type": "code",
   "execution_count": 1,
   "id": "743c63e7",
   "metadata": {
    "execution": {
     "iopub.execute_input": "2023-02-16T05:49:34.168930Z",
     "iopub.status.busy": "2023-02-16T05:49:34.167382Z",
     "iopub.status.idle": "2023-02-16T05:49:38.691084Z",
     "shell.execute_reply": "2023-02-16T05:49:38.689832Z"
    },
    "papermill": {
     "duration": 4.534463,
     "end_time": "2023-02-16T05:49:38.693879",
     "exception": false,
     "start_time": "2023-02-16T05:49:34.159416",
     "status": "completed"
    },
    "tags": []
   },
   "outputs": [
    {
     "name": "stdout",
     "output_type": "stream",
     "text": [
      "Using Kaggle's public dataset BigQuery integration.\n"
     ]
    },
    {
     "name": "stderr",
     "output_type": "stream",
     "text": [
      "/opt/conda/lib/python3.7/site-packages/google/cloud/bigquery/client.py:440: UserWarning: Cannot create BigQuery Storage client, the dependency google-cloud-bigquery-storage is not installed.\n",
      "  \"Cannot create BigQuery Storage client, the dependency \"\n"
     ]
    },
    {
     "name": "stdout",
     "output_type": "stream",
     "text": [
      "Setup Complete\n"
     ]
    }
   ],
   "source": [
    "# Set up feedback system\n",
    "from learntools.core import binder\n",
    "binder.bind(globals())\n",
    "from learntools.sql.ex5 import *\n",
    "print(\"Setup Complete\")"
   ]
  },
  {
   "cell_type": "markdown",
   "id": "d5529dfd",
   "metadata": {
    "papermill": {
     "duration": 0.00609,
     "end_time": "2023-02-16T05:49:38.706680",
     "exception": false,
     "start_time": "2023-02-16T05:49:38.700590",
     "status": "completed"
    },
    "tags": []
   },
   "source": [
    "You'll work with a dataset about taxi trips in the city of Chicago. Run the cell below to fetch the `chicago_taxi_trips` dataset."
   ]
  },
  {
   "cell_type": "code",
   "execution_count": 2,
   "id": "f81b0d07",
   "metadata": {
    "execution": {
     "iopub.execute_input": "2023-02-16T05:49:38.722087Z",
     "iopub.status.busy": "2023-02-16T05:49:38.720831Z",
     "iopub.status.idle": "2023-02-16T05:49:39.132585Z",
     "shell.execute_reply": "2023-02-16T05:49:39.131513Z"
    },
    "papermill": {
     "duration": 0.422484,
     "end_time": "2023-02-16T05:49:39.135535",
     "exception": false,
     "start_time": "2023-02-16T05:49:38.713051",
     "status": "completed"
    },
    "tags": []
   },
   "outputs": [
    {
     "name": "stdout",
     "output_type": "stream",
     "text": [
      "Using Kaggle's public dataset BigQuery integration.\n"
     ]
    }
   ],
   "source": [
    "from google.cloud import bigquery\n",
    "\n",
    "# Create a \"Client\" object\n",
    "client = bigquery.Client()\n",
    "\n",
    "# Construct a reference to the \"chicago_taxi_trips\" dataset\n",
    "dataset_ref = client.dataset(\"chicago_taxi_trips\", project=\"bigquery-public-data\")\n",
    "\n",
    "# API request - fetch the dataset\n",
    "dataset = client.get_dataset(dataset_ref)"
   ]
  },
  {
   "cell_type": "markdown",
   "id": "6c618b05",
   "metadata": {
    "papermill": {
     "duration": 0.006192,
     "end_time": "2023-02-16T05:49:39.148224",
     "exception": false,
     "start_time": "2023-02-16T05:49:39.142032",
     "status": "completed"
    },
    "tags": []
   },
   "source": [
    "# Exercises\n",
    "\n",
    "You are curious how much slower traffic moves when traffic volume is high. This involves a few steps.\n",
    "\n",
    "### 1) Find the data\n",
    "Before you can access the data, you need to find the table name with the data.\n",
    "\n",
    "*Hint*: Tab completion is helpful whenever you can't remember a command. Type `client.` and then hit the tab key. Don't forget the period before hitting tab."
   ]
  },
  {
   "cell_type": "code",
   "execution_count": 3,
   "id": "e808ebde",
   "metadata": {
    "execution": {
     "iopub.execute_input": "2023-02-16T05:49:39.165643Z",
     "iopub.status.busy": "2023-02-16T05:49:39.164529Z",
     "iopub.status.idle": "2023-02-16T05:49:40.070431Z",
     "shell.execute_reply": "2023-02-16T05:49:40.069267Z"
    },
    "papermill": {
     "duration": 0.9175,
     "end_time": "2023-02-16T05:49:40.072952",
     "exception": false,
     "start_time": "2023-02-16T05:49:39.155452",
     "status": "completed"
    },
    "tags": []
   },
   "outputs": [
    {
     "data": {
      "text/plain": [
       "['taxi_trips']"
      ]
     },
     "execution_count": 3,
     "metadata": {},
     "output_type": "execute_result"
    }
   ],
   "source": [
    "# Your code here to find the table name\n",
    "table_names = [x.table_id for x in client.list_tables(dataset)]\n",
    "table_names"
   ]
  },
  {
   "cell_type": "code",
   "execution_count": 4,
   "id": "de63f1c3",
   "metadata": {
    "execution": {
     "iopub.execute_input": "2023-02-16T05:49:40.087920Z",
     "iopub.status.busy": "2023-02-16T05:49:40.087494Z",
     "iopub.status.idle": "2023-02-16T05:49:40.096459Z",
     "shell.execute_reply": "2023-02-16T05:49:40.095309Z"
    },
    "papermill": {
     "duration": 0.019053,
     "end_time": "2023-02-16T05:49:40.098694",
     "exception": false,
     "start_time": "2023-02-16T05:49:40.079641",
     "status": "completed"
    },
    "tags": []
   },
   "outputs": [
    {
     "data": {
      "application/javascript": [
       "parent.postMessage({\"jupyterEvent\": \"custom.exercise_interaction\", \"data\": {\"outcomeType\": 1, \"valueTowardsCompletion\": 0.16666666666666666, \"interactionType\": 1, \"questionType\": 1, \"questionId\": \"1_GetTableName\", \"learnToolsVersion\": \"0.3.4\", \"failureMessage\": \"\", \"exceptionClass\": \"\", \"trace\": \"\"}}, \"*\")"
      ],
      "text/plain": [
       "<IPython.core.display.Javascript object>"
      ]
     },
     "metadata": {},
     "output_type": "display_data"
    },
    {
     "data": {
      "text/markdown": [
       "<span style=\"color:#33cc33\">Correct</span>"
      ],
      "text/plain": [
       "Correct"
      ]
     },
     "metadata": {},
     "output_type": "display_data"
    }
   ],
   "source": [
    "# Write the table name as a string below\n",
    "table_name = table_names[0]\n",
    "\n",
    "# Check your answer\n",
    "q_1.check()"
   ]
  },
  {
   "cell_type": "markdown",
   "id": "cd4a0cdb",
   "metadata": {
    "papermill": {
     "duration": 0.006421,
     "end_time": "2023-02-16T05:49:40.111757",
     "exception": false,
     "start_time": "2023-02-16T05:49:40.105336",
     "status": "completed"
    },
    "tags": []
   },
   "source": [
    "For the solution, uncomment the line below."
   ]
  },
  {
   "cell_type": "code",
   "execution_count": 5,
   "id": "2c7b3ad4",
   "metadata": {
    "execution": {
     "iopub.execute_input": "2023-02-16T05:49:40.127577Z",
     "iopub.status.busy": "2023-02-16T05:49:40.127164Z",
     "iopub.status.idle": "2023-02-16T05:49:40.132082Z",
     "shell.execute_reply": "2023-02-16T05:49:40.131029Z"
    },
    "papermill": {
     "duration": 0.015769,
     "end_time": "2023-02-16T05:49:40.134280",
     "exception": false,
     "start_time": "2023-02-16T05:49:40.118511",
     "status": "completed"
    },
    "tags": []
   },
   "outputs": [],
   "source": [
    "#q_1.solution()"
   ]
  },
  {
   "cell_type": "markdown",
   "id": "a02ab54b",
   "metadata": {
    "papermill": {
     "duration": 0.006558,
     "end_time": "2023-02-16T05:49:40.147987",
     "exception": false,
     "start_time": "2023-02-16T05:49:40.141429",
     "status": "completed"
    },
    "tags": []
   },
   "source": [
    "### 2) Peek at the data\n",
    "\n",
    "Use the next code cell to peek at the top few rows of the data. Inspect the data and see if any issues with data quality are immediately obvious. "
   ]
  },
  {
   "cell_type": "code",
   "execution_count": 6,
   "id": "d14c86f2",
   "metadata": {
    "execution": {
     "iopub.execute_input": "2023-02-16T05:49:40.163914Z",
     "iopub.status.busy": "2023-02-16T05:49:40.163457Z",
     "iopub.status.idle": "2023-02-16T05:49:41.180505Z",
     "shell.execute_reply": "2023-02-16T05:49:41.179288Z"
    },
    "papermill": {
     "duration": 1.027996,
     "end_time": "2023-02-16T05:49:41.182815",
     "exception": false,
     "start_time": "2023-02-16T05:49:40.154819",
     "status": "completed"
    },
    "tags": []
   },
   "outputs": [
    {
     "name": "stderr",
     "output_type": "stream",
     "text": [
      "/opt/conda/lib/python3.7/site-packages/ipykernel_launcher.py:6: UserWarning: Cannot use bqstorage_client if max_results is set, reverting to fetching data with the tabledata.list endpoint.\n",
      "  \n"
     ]
    },
    {
     "data": {
      "text/html": [
       "<div>\n",
       "<style scoped>\n",
       "    .dataframe tbody tr th:only-of-type {\n",
       "        vertical-align: middle;\n",
       "    }\n",
       "\n",
       "    .dataframe tbody tr th {\n",
       "        vertical-align: top;\n",
       "    }\n",
       "\n",
       "    .dataframe thead th {\n",
       "        text-align: right;\n",
       "    }\n",
       "</style>\n",
       "<table border=\"1\" class=\"dataframe\">\n",
       "  <thead>\n",
       "    <tr style=\"text-align: right;\">\n",
       "      <th></th>\n",
       "      <th>unique_key</th>\n",
       "      <th>taxi_id</th>\n",
       "      <th>trip_start_timestamp</th>\n",
       "      <th>trip_end_timestamp</th>\n",
       "      <th>trip_seconds</th>\n",
       "      <th>trip_miles</th>\n",
       "      <th>pickup_census_tract</th>\n",
       "      <th>dropoff_census_tract</th>\n",
       "      <th>pickup_community_area</th>\n",
       "      <th>dropoff_community_area</th>\n",
       "      <th>...</th>\n",
       "      <th>extras</th>\n",
       "      <th>trip_total</th>\n",
       "      <th>payment_type</th>\n",
       "      <th>company</th>\n",
       "      <th>pickup_latitude</th>\n",
       "      <th>pickup_longitude</th>\n",
       "      <th>pickup_location</th>\n",
       "      <th>dropoff_latitude</th>\n",
       "      <th>dropoff_longitude</th>\n",
       "      <th>dropoff_location</th>\n",
       "    </tr>\n",
       "  </thead>\n",
       "  <tbody>\n",
       "    <tr>\n",
       "      <th>0</th>\n",
       "      <td>729ba878fdd102d75354be82a6d2ca1a0a8d6c26</td>\n",
       "      <td>11b7c42b4edd22871e20345b6d660674e67d199e431a9e...</td>\n",
       "      <td>2014-10-12 19:45:00+00:00</td>\n",
       "      <td>2014-10-12 19:45:00+00:00</td>\n",
       "      <td>0</td>\n",
       "      <td>0.0</td>\n",
       "      <td>NaN</td>\n",
       "      <td>NaN</td>\n",
       "      <td>NaN</td>\n",
       "      <td>NaN</td>\n",
       "      <td>...</td>\n",
       "      <td>0.0</td>\n",
       "      <td>142.92</td>\n",
       "      <td>Credit Card</td>\n",
       "      <td>Chicago Elite Cab Corp. (Chicago Carriag</td>\n",
       "      <td>NaN</td>\n",
       "      <td>NaN</td>\n",
       "      <td>None</td>\n",
       "      <td>NaN</td>\n",
       "      <td>NaN</td>\n",
       "      <td>None</td>\n",
       "    </tr>\n",
       "    <tr>\n",
       "      <th>1</th>\n",
       "      <td>95a53b4a411b3a7a7bb6b7d2ebba7b59e237709f</td>\n",
       "      <td>f17ab0698b8c6ca146d267a064142f94caf779355f0f11...</td>\n",
       "      <td>2014-11-13 22:00:00+00:00</td>\n",
       "      <td>2014-11-13 22:15:00+00:00</td>\n",
       "      <td>960</td>\n",
       "      <td>3.9</td>\n",
       "      <td>NaN</td>\n",
       "      <td>NaN</td>\n",
       "      <td>NaN</td>\n",
       "      <td>NaN</td>\n",
       "      <td>...</td>\n",
       "      <td>1.0</td>\n",
       "      <td>12.65</td>\n",
       "      <td>Cash</td>\n",
       "      <td>Taxi Affiliation Services</td>\n",
       "      <td>NaN</td>\n",
       "      <td>NaN</td>\n",
       "      <td>None</td>\n",
       "      <td>NaN</td>\n",
       "      <td>NaN</td>\n",
       "      <td>None</td>\n",
       "    </tr>\n",
       "    <tr>\n",
       "      <th>2</th>\n",
       "      <td>5e986109956f92977b0ba80b11511037dde52d1a</td>\n",
       "      <td>67492f30cea5835460bdf432575c374bbccf9b6fc50ce5...</td>\n",
       "      <td>2014-11-14 04:00:00+00:00</td>\n",
       "      <td>2014-11-14 04:00:00+00:00</td>\n",
       "      <td>0</td>\n",
       "      <td>0.0</td>\n",
       "      <td>NaN</td>\n",
       "      <td>NaN</td>\n",
       "      <td>NaN</td>\n",
       "      <td>NaN</td>\n",
       "      <td>...</td>\n",
       "      <td>0.0</td>\n",
       "      <td>43.45</td>\n",
       "      <td>Credit Card</td>\n",
       "      <td>Suburban Dispatch LLC</td>\n",
       "      <td>NaN</td>\n",
       "      <td>NaN</td>\n",
       "      <td>None</td>\n",
       "      <td>NaN</td>\n",
       "      <td>NaN</td>\n",
       "      <td>None</td>\n",
       "    </tr>\n",
       "    <tr>\n",
       "      <th>3</th>\n",
       "      <td>ecea4ebf1241881cb650e26e9f7bcb1400efc0af</td>\n",
       "      <td>e93472aad9e00c0a523e1a861ae897303548d713ba63d3...</td>\n",
       "      <td>2016-01-26 10:45:00+00:00</td>\n",
       "      <td>2016-01-26 10:45:00+00:00</td>\n",
       "      <td>0</td>\n",
       "      <td>0.0</td>\n",
       "      <td>NaN</td>\n",
       "      <td>NaN</td>\n",
       "      <td>NaN</td>\n",
       "      <td>NaN</td>\n",
       "      <td>...</td>\n",
       "      <td>0.0</td>\n",
       "      <td>6.60</td>\n",
       "      <td>Credit Card</td>\n",
       "      <td>Chicago Elite Cab Corp. (Chicago Carriag</td>\n",
       "      <td>NaN</td>\n",
       "      <td>NaN</td>\n",
       "      <td>None</td>\n",
       "      <td>NaN</td>\n",
       "      <td>NaN</td>\n",
       "      <td>None</td>\n",
       "    </tr>\n",
       "    <tr>\n",
       "      <th>4</th>\n",
       "      <td>a46923f9d54face1de8d17a89b59f389d3bbf42e</td>\n",
       "      <td>d5a8066dabd9c66763473831bd563811bc4160935fc437...</td>\n",
       "      <td>2014-10-10 15:15:00+00:00</td>\n",
       "      <td>2014-10-10 15:15:00+00:00</td>\n",
       "      <td>0</td>\n",
       "      <td>0.0</td>\n",
       "      <td>NaN</td>\n",
       "      <td>NaN</td>\n",
       "      <td>NaN</td>\n",
       "      <td>NaN</td>\n",
       "      <td>...</td>\n",
       "      <td>0.0</td>\n",
       "      <td>9.18</td>\n",
       "      <td>Credit Card</td>\n",
       "      <td>Chicago Elite Cab Corp. (Chicago Carriag</td>\n",
       "      <td>NaN</td>\n",
       "      <td>NaN</td>\n",
       "      <td>None</td>\n",
       "      <td>NaN</td>\n",
       "      <td>NaN</td>\n",
       "      <td>None</td>\n",
       "    </tr>\n",
       "  </tbody>\n",
       "</table>\n",
       "<p>5 rows × 23 columns</p>\n",
       "</div>"
      ],
      "text/plain": [
       "                                 unique_key  \\\n",
       "0  729ba878fdd102d75354be82a6d2ca1a0a8d6c26   \n",
       "1  95a53b4a411b3a7a7bb6b7d2ebba7b59e237709f   \n",
       "2  5e986109956f92977b0ba80b11511037dde52d1a   \n",
       "3  ecea4ebf1241881cb650e26e9f7bcb1400efc0af   \n",
       "4  a46923f9d54face1de8d17a89b59f389d3bbf42e   \n",
       "\n",
       "                                             taxi_id  \\\n",
       "0  11b7c42b4edd22871e20345b6d660674e67d199e431a9e...   \n",
       "1  f17ab0698b8c6ca146d267a064142f94caf779355f0f11...   \n",
       "2  67492f30cea5835460bdf432575c374bbccf9b6fc50ce5...   \n",
       "3  e93472aad9e00c0a523e1a861ae897303548d713ba63d3...   \n",
       "4  d5a8066dabd9c66763473831bd563811bc4160935fc437...   \n",
       "\n",
       "       trip_start_timestamp        trip_end_timestamp  trip_seconds  \\\n",
       "0 2014-10-12 19:45:00+00:00 2014-10-12 19:45:00+00:00             0   \n",
       "1 2014-11-13 22:00:00+00:00 2014-11-13 22:15:00+00:00           960   \n",
       "2 2014-11-14 04:00:00+00:00 2014-11-14 04:00:00+00:00             0   \n",
       "3 2016-01-26 10:45:00+00:00 2016-01-26 10:45:00+00:00             0   \n",
       "4 2014-10-10 15:15:00+00:00 2014-10-10 15:15:00+00:00             0   \n",
       "\n",
       "   trip_miles  pickup_census_tract  dropoff_census_tract  \\\n",
       "0         0.0                  NaN                   NaN   \n",
       "1         3.9                  NaN                   NaN   \n",
       "2         0.0                  NaN                   NaN   \n",
       "3         0.0                  NaN                   NaN   \n",
       "4         0.0                  NaN                   NaN   \n",
       "\n",
       "   pickup_community_area  dropoff_community_area  ...  extras  trip_total  \\\n",
       "0                    NaN                     NaN  ...     0.0      142.92   \n",
       "1                    NaN                     NaN  ...     1.0       12.65   \n",
       "2                    NaN                     NaN  ...     0.0       43.45   \n",
       "3                    NaN                     NaN  ...     0.0        6.60   \n",
       "4                    NaN                     NaN  ...     0.0        9.18   \n",
       "\n",
       "   payment_type                                   company  pickup_latitude  \\\n",
       "0   Credit Card  Chicago Elite Cab Corp. (Chicago Carriag              NaN   \n",
       "1          Cash                 Taxi Affiliation Services              NaN   \n",
       "2   Credit Card                     Suburban Dispatch LLC              NaN   \n",
       "3   Credit Card  Chicago Elite Cab Corp. (Chicago Carriag              NaN   \n",
       "4   Credit Card  Chicago Elite Cab Corp. (Chicago Carriag              NaN   \n",
       "\n",
       "  pickup_longitude pickup_location  dropoff_latitude  dropoff_longitude  \\\n",
       "0              NaN            None               NaN                NaN   \n",
       "1              NaN            None               NaN                NaN   \n",
       "2              NaN            None               NaN                NaN   \n",
       "3              NaN            None               NaN                NaN   \n",
       "4              NaN            None               NaN                NaN   \n",
       "\n",
       "  dropoff_location  \n",
       "0             None  \n",
       "1             None  \n",
       "2             None  \n",
       "3             None  \n",
       "4             None  \n",
       "\n",
       "[5 rows x 23 columns]"
      ]
     },
     "execution_count": 6,
     "metadata": {},
     "output_type": "execute_result"
    }
   ],
   "source": [
    "# Your code here\n",
    "table_ref = dataset_ref.table(table_name)\n",
    "table = client.get_table(table_ref)\n",
    "\n",
    "# Preview the first five lines of the \"taxi_trips\" table\n",
    "client.list_rows(table, max_results=5).to_dataframe()"
   ]
  },
  {
   "cell_type": "markdown",
   "id": "89b1f372",
   "metadata": {
    "papermill": {
     "duration": 0.007028,
     "end_time": "2023-02-16T05:49:41.197096",
     "exception": false,
     "start_time": "2023-02-16T05:49:41.190068",
     "status": "completed"
    },
    "tags": []
   },
   "source": [
    "After deciding whether you see any important issues, run the code cell below."
   ]
  },
  {
   "cell_type": "code",
   "execution_count": 7,
   "id": "84c56a34",
   "metadata": {
    "execution": {
     "iopub.execute_input": "2023-02-16T05:49:41.213382Z",
     "iopub.status.busy": "2023-02-16T05:49:41.212938Z",
     "iopub.status.idle": "2023-02-16T05:49:41.222002Z",
     "shell.execute_reply": "2023-02-16T05:49:41.220815Z"
    },
    "papermill": {
     "duration": 0.019927,
     "end_time": "2023-02-16T05:49:41.224191",
     "exception": false,
     "start_time": "2023-02-16T05:49:41.204264",
     "status": "completed"
    },
    "tags": []
   },
   "outputs": [
    {
     "data": {
      "application/javascript": [
       "parent.postMessage({\"jupyterEvent\": \"custom.exercise_interaction\", \"data\": {\"interactionType\": 3, \"questionType\": 4, \"questionId\": \"2_WhatsWrongWithData\", \"learnToolsVersion\": \"0.3.4\", \"valueTowardsCompletion\": 0.0, \"failureMessage\": \"\", \"exceptionClass\": \"\", \"trace\": \"\", \"outcomeType\": 4}}, \"*\")"
      ],
      "text/plain": [
       "<IPython.core.display.Javascript object>"
      ]
     },
     "metadata": {},
     "output_type": "display_data"
    },
    {
     "data": {
      "text/markdown": [
       "<span style=\"color:#33cc99\">Solution:</span> \n",
       "You can see the data by calling: \n",
       "```python\n",
       "# Construct a reference to the \"taxi_trips\" table\n",
       "table_ref = dataset_ref.table(\"taxi_trips\")\n",
       "\n",
       "# API request - fetch the table\n",
       "table = client.get_table(table_ref)\n",
       "\n",
       "# Preview the first five lines of the \"taxi_trips\" table\n",
       "client.list_rows(table, max_results=5).to_dataframe()\n",
       "```\n",
       "\n",
       "Some location fields have values of `None` or `NaN`. That is a problem if we want to use those fields.\n"
      ],
      "text/plain": [
       "Solution: \n",
       "You can see the data by calling: \n",
       "```python\n",
       "# Construct a reference to the \"taxi_trips\" table\n",
       "table_ref = dataset_ref.table(\"taxi_trips\")\n",
       "\n",
       "# API request - fetch the table\n",
       "table = client.get_table(table_ref)\n",
       "\n",
       "# Preview the first five lines of the \"taxi_trips\" table\n",
       "client.list_rows(table, max_results=5).to_dataframe()\n",
       "```\n",
       "\n",
       "Some location fields have values of `None` or `NaN`. That is a problem if we want to use those fields."
      ]
     },
     "metadata": {},
     "output_type": "display_data"
    }
   ],
   "source": [
    "# Check your answer (Run this code cell to receive credit!)\n",
    "q_2.solution()"
   ]
  },
  {
   "cell_type": "markdown",
   "id": "a4aafc06",
   "metadata": {
    "papermill": {
     "duration": 0.007417,
     "end_time": "2023-02-16T05:49:41.239306",
     "exception": false,
     "start_time": "2023-02-16T05:49:41.231889",
     "status": "completed"
    },
    "tags": []
   },
   "source": [
    "### 3) Determine when this data is from\n",
    "\n",
    "If the data is sufficiently old, we might be careful before assuming the data is still relevant to traffic patterns today. Write a query that counts the number of trips in each year.  \n",
    "\n",
    "Your results should have two columns:\n",
    "- `year` - the year of the trips\n",
    "- `num_trips` - the number of trips in that year\n",
    "\n",
    "Hints:\n",
    "- When using **GROUP BY** and **ORDER BY**, you should refer to the columns by the alias `year` that you set at the top of the **SELECT** query.\n",
    "- The SQL code to **SELECT** the year from `trip_start_timestamp` is <code>SELECT EXTRACT(YEAR FROM trip_start_timestamp)</code>\n",
    "- The **FROM** field can be a little tricky until you are used to it.  The format is:\n",
    "    1. A backick (the symbol \\`).\n",
    "    2. The project name. In this case it is `bigquery-public-data`.\n",
    "    3. A period.\n",
    "    4. The dataset name. In this case, it is `chicago_taxi_trips`.\n",
    "    5. A period.\n",
    "    6. The table name. You used this as your answer in **1) Find the data**.\n",
    "    7. A backtick (the symbol \\`)."
   ]
  },
  {
   "cell_type": "code",
   "execution_count": 8,
   "id": "9253402e",
   "metadata": {
    "execution": {
     "iopub.execute_input": "2023-02-16T05:49:41.256758Z",
     "iopub.status.busy": "2023-02-16T05:49:41.256163Z",
     "iopub.status.idle": "2023-02-16T05:49:43.274508Z",
     "shell.execute_reply": "2023-02-16T05:49:43.272916Z"
    },
    "papermill": {
     "duration": 2.030549,
     "end_time": "2023-02-16T05:49:43.277396",
     "exception": false,
     "start_time": "2023-02-16T05:49:41.246847",
     "status": "completed"
    },
    "tags": []
   },
   "outputs": [
    {
     "name": "stderr",
     "output_type": "stream",
     "text": [
      "/opt/conda/lib/python3.7/site-packages/google/cloud/bigquery/client.py:440: UserWarning: Cannot create BigQuery Storage client, the dependency google-cloud-bigquery-storage is not installed.\n",
      "  \"Cannot create BigQuery Storage client, the dependency \"\n"
     ]
    },
    {
     "name": "stdout",
     "output_type": "stream",
     "text": [
      "    year  num_trips\n",
      "0   2013   27217300\n",
      "1   2014   37395079\n",
      "2   2015   32385527\n",
      "3   2016   31756403\n",
      "4   2017   24979611\n",
      "5   2018   20731105\n",
      "6   2019   16476440\n",
      "7   2020    3888831\n",
      "8   2021    3947677\n",
      "9   2022    6382071\n",
      "10  2023     414489\n"
     ]
    },
    {
     "data": {
      "application/javascript": [
       "parent.postMessage({\"jupyterEvent\": \"custom.exercise_interaction\", \"data\": {\"outcomeType\": 1, \"valueTowardsCompletion\": 0.16666666666666666, \"interactionType\": 1, \"questionType\": 2, \"questionId\": \"3_YearDistrib\", \"learnToolsVersion\": \"0.3.4\", \"failureMessage\": \"\", \"exceptionClass\": \"\", \"trace\": \"\"}}, \"*\")"
      ],
      "text/plain": [
       "<IPython.core.display.Javascript object>"
      ]
     },
     "metadata": {},
     "output_type": "display_data"
    },
    {
     "data": {
      "text/markdown": [
       "<span style=\"color:#33cc33\">Correct</span>"
      ],
      "text/plain": [
       "Correct"
      ]
     },
     "metadata": {},
     "output_type": "display_data"
    }
   ],
   "source": [
    "# Your code goes here\n",
    "rides_per_year_query = \"\"\"WITH cte AS\n",
    "                          (\n",
    "                            SELECT EXTRACT(YEAR FROM trip_start_timestamp) AS year\n",
    "                              FROM `bigquery-public-data.chicago_taxi_trips.taxi_trips`\n",
    "                          )\n",
    "                          SELECT year, COUNT(1) AS num_trips\n",
    "                            FROM cte\n",
    "                            GROUP BY year\n",
    "                            ORDER BY year\n",
    "                       \"\"\"\n",
    "\n",
    "# Set up the query (cancel the query if it would use too much of \n",
    "# your quota)\n",
    "safe_config = bigquery.QueryJobConfig(maximum_bytes_billed=10**10)\n",
    "rides_per_year_query_job = client.query(rides_per_year_query, job_config=safe_config) # Your code goes here\n",
    "\n",
    "# API request - run the query, and return a pandas DataFrame\n",
    "rides_per_year_result = rides_per_year_query_job.to_dataframe() # Your code goes here\n",
    "\n",
    "# View results\n",
    "print(rides_per_year_result)\n",
    "\n",
    "# Check your answer\n",
    "q_3.check()"
   ]
  },
  {
   "cell_type": "markdown",
   "id": "9e62caf5",
   "metadata": {
    "papermill": {
     "duration": 0.007547,
     "end_time": "2023-02-16T05:49:43.293079",
     "exception": false,
     "start_time": "2023-02-16T05:49:43.285532",
     "status": "completed"
    },
    "tags": []
   },
   "source": [
    "For a hint or the solution, uncomment the appropriate line below."
   ]
  },
  {
   "cell_type": "code",
   "execution_count": 9,
   "id": "bd4592a8",
   "metadata": {
    "execution": {
     "iopub.execute_input": "2023-02-16T05:49:43.310738Z",
     "iopub.status.busy": "2023-02-16T05:49:43.310309Z",
     "iopub.status.idle": "2023-02-16T05:49:43.314707Z",
     "shell.execute_reply": "2023-02-16T05:49:43.313404Z"
    },
    "papermill": {
     "duration": 0.016115,
     "end_time": "2023-02-16T05:49:43.316890",
     "exception": false,
     "start_time": "2023-02-16T05:49:43.300775",
     "status": "completed"
    },
    "tags": []
   },
   "outputs": [],
   "source": [
    "#q_3.hint()\n",
    "#q_3.solution()"
   ]
  },
  {
   "cell_type": "markdown",
   "id": "2481b291",
   "metadata": {
    "papermill": {
     "duration": 0.007399,
     "end_time": "2023-02-16T05:49:43.332423",
     "exception": false,
     "start_time": "2023-02-16T05:49:43.325024",
     "status": "completed"
    },
    "tags": []
   },
   "source": [
    "### 4) Dive slightly deeper\n",
    "\n",
    "You'd like to take a closer look at rides from 2016.  Copy the query you used above in `rides_per_year_query` into the cell below for `rides_per_month_query`.  Then modify it in two ways:\n",
    "1. Use a **WHERE** clause to limit the query to data from 2016.\n",
    "2. Modify the query to extract the month rather than the year."
   ]
  },
  {
   "cell_type": "code",
   "execution_count": 10,
   "id": "16af5777",
   "metadata": {
    "execution": {
     "iopub.execute_input": "2023-02-16T05:49:43.349300Z",
     "iopub.status.busy": "2023-02-16T05:49:43.348900Z",
     "iopub.status.idle": "2023-02-16T05:49:44.740900Z",
     "shell.execute_reply": "2023-02-16T05:49:44.739527Z"
    },
    "papermill": {
     "duration": 1.403264,
     "end_time": "2023-02-16T05:49:44.743393",
     "exception": false,
     "start_time": "2023-02-16T05:49:43.340129",
     "status": "completed"
    },
    "tags": []
   },
   "outputs": [
    {
     "name": "stderr",
     "output_type": "stream",
     "text": [
      "/opt/conda/lib/python3.7/site-packages/google/cloud/bigquery/client.py:440: UserWarning: Cannot create BigQuery Storage client, the dependency google-cloud-bigquery-storage is not installed.\n",
      "  \"Cannot create BigQuery Storage client, the dependency \"\n"
     ]
    },
    {
     "name": "stdout",
     "output_type": "stream",
     "text": [
      "    month  num_trips\n",
      "0       1    1971708\n",
      "1       2    1909479\n",
      "2       3    2361634\n",
      "3       4    2194344\n",
      "4       5    2322631\n",
      "5       6    2323672\n",
      "6       7    2053471\n",
      "7       8    2078623\n",
      "8       9    1949427\n",
      "9      10    2140326\n",
      "10     11    1906884\n",
      "11     12    1767412\n"
     ]
    },
    {
     "data": {
      "application/javascript": [
       "parent.postMessage({\"jupyterEvent\": \"custom.exercise_interaction\", \"data\": {\"outcomeType\": 2, \"failureMessage\": \"The results don't look right. Try again.\", \"interactionType\": 1, \"questionType\": 2, \"questionId\": \"4_MonthDistrib\", \"learnToolsVersion\": \"0.3.4\", \"valueTowardsCompletion\": 0.0, \"exceptionClass\": \"\", \"trace\": \"\"}}, \"*\")"
      ],
      "text/plain": [
       "<IPython.core.display.Javascript object>"
      ]
     },
     "metadata": {},
     "output_type": "display_data"
    },
    {
     "data": {
      "text/markdown": [
       "<span style=\"color:#cc3333\">Incorrect:</span> The results don't look right. Try again."
      ],
      "text/plain": [
       "Incorrect: The results don't look right. Try again."
      ]
     },
     "metadata": {},
     "output_type": "display_data"
    }
   ],
   "source": [
    "# Your code goes here\n",
    "rides_per_month_query =  \"\"\"WITH cte AS\n",
    "                            (\n",
    "                              SELECT EXTRACT(MONTH FROM trip_start_timestamp) AS month\n",
    "                                FROM `bigquery-public-data.chicago_taxi_trips.taxi_trips`\n",
    "                                WHERE EXTRACT(YEAR FROM trip_start_timestamp) = 2017\n",
    "                            )\n",
    "                            SELECT month, COUNT(1) AS num_trips\n",
    "                              FROM cte\n",
    "                              GROUP BY month\n",
    "                              ORDER BY month\n",
    "                         \"\"\" \n",
    "\n",
    "# Set up the query\n",
    "safe_config = bigquery.QueryJobConfig(maximum_bytes_billed=10**10)\n",
    "rides_per_month_query_job = client.query(rides_per_month_query, job_config=safe_config) # Your code goes here\n",
    "\n",
    "# API request - run the query, and return a pandas DataFrame\n",
    "rides_per_month_result = rides_per_month_query_job.to_dataframe() # Your code goes here\n",
    "\n",
    "# View results\n",
    "print(rides_per_month_result)\n",
    "\n",
    "# Check your answer\n",
    "q_4.check()"
   ]
  },
  {
   "cell_type": "markdown",
   "id": "b0e7226b",
   "metadata": {
    "papermill": {
     "duration": 0.007974,
     "end_time": "2023-02-16T05:49:44.759833",
     "exception": false,
     "start_time": "2023-02-16T05:49:44.751859",
     "status": "completed"
    },
    "tags": []
   },
   "source": [
    "For a hint or the solution, uncomment the appropriate line below."
   ]
  },
  {
   "cell_type": "code",
   "execution_count": 11,
   "id": "2e44a315",
   "metadata": {
    "execution": {
     "iopub.execute_input": "2023-02-16T05:49:44.779285Z",
     "iopub.status.busy": "2023-02-16T05:49:44.778843Z",
     "iopub.status.idle": "2023-02-16T05:49:44.783460Z",
     "shell.execute_reply": "2023-02-16T05:49:44.782517Z"
    },
    "papermill": {
     "duration": 0.016853,
     "end_time": "2023-02-16T05:49:44.785836",
     "exception": false,
     "start_time": "2023-02-16T05:49:44.768983",
     "status": "completed"
    },
    "tags": []
   },
   "outputs": [],
   "source": [
    "#q_4.hint()\n",
    "#q_4.solution()"
   ]
  },
  {
   "cell_type": "markdown",
   "id": "054630ba",
   "metadata": {
    "papermill": {
     "duration": 0.008021,
     "end_time": "2023-02-16T05:49:44.802416",
     "exception": false,
     "start_time": "2023-02-16T05:49:44.794395",
     "status": "completed"
    },
    "tags": []
   },
   "source": [
    "### 5) Write the query\n",
    "\n",
    "It's time to step up the sophistication of your queries.  Write a query that shows, for each hour of the day in the dataset, the corresponding number of trips and average speed.\n",
    "\n",
    "Your results should have three columns:\n",
    "- `hour_of_day` - sort by this column, which holds the result of extracting the hour from `trip_start_timestamp`.\n",
    "- `num_trips` - the count of the total number of trips in each hour of the day (e.g. how many trips were started between 6AM and 7AM, independent of which day it occurred on).\n",
    "- `avg_mph` - the average speed, measured in miles per hour, for trips that started in that hour of the day.  Average speed in miles per hour is calculated as `3600 * SUM(trip_miles) / SUM(trip_seconds)`. (The value 3600 is used to convert from seconds to hours.)\n",
    "\n",
    "Restrict your query to data meeting the following criteria:\n",
    "- a `trip_start_timestamp` > **2016-01-01** and < **2016-04-01**\n",
    "- `trip_seconds` > 0 and `trip_miles` > 0\n",
    "\n",
    "You will use a common table expression (CTE) to select just the relevant rides.  Because this dataset is very big, this CTE should select only the columns you'll need to create the final output (though you won't actually create those in the CTE -- instead you'll create those in the later **SELECT** statement below the CTE).\n",
    "\n",
    "This is a much harder query than anything you've written so far.  Good luck!"
   ]
  },
  {
   "cell_type": "code",
   "execution_count": 12,
   "id": "6dbd3f50",
   "metadata": {
    "execution": {
     "iopub.execute_input": "2023-02-16T05:49:44.821645Z",
     "iopub.status.busy": "2023-02-16T05:49:44.820338Z",
     "iopub.status.idle": "2023-02-16T05:49:46.127750Z",
     "shell.execute_reply": "2023-02-16T05:49:46.126535Z"
    },
    "papermill": {
     "duration": 1.319373,
     "end_time": "2023-02-16T05:49:46.130102",
     "exception": false,
     "start_time": "2023-02-16T05:49:44.810729",
     "status": "completed"
    },
    "tags": []
   },
   "outputs": [
    {
     "name": "stderr",
     "output_type": "stream",
     "text": [
      "/opt/conda/lib/python3.7/site-packages/google/cloud/bigquery/client.py:440: UserWarning: Cannot create BigQuery Storage client, the dependency google-cloud-bigquery-storage is not installed.\n",
      "  \"Cannot create BigQuery Storage client, the dependency \"\n"
     ]
    },
    {
     "name": "stdout",
     "output_type": "stream",
     "text": [
      "    hour_of_day  num_trips    avg_mph\n",
      "0             0     203092  20.191744\n",
      "1             1     178046  18.628598\n",
      "2             2     143447  18.444370\n",
      "3             3     108899  19.273107\n",
      "4             4      80067  27.599669\n",
      "5             5      75786  33.065604\n",
      "6             6     102254  28.533112\n",
      "7             7     187585  19.884592\n",
      "8             8     284223  16.787900\n",
      "9             9     306854  18.434124\n",
      "10           10     279762  20.091309\n",
      "11           11     294006  20.926340\n",
      "12           12     311522  20.063901\n",
      "13           13     317225  19.766321\n",
      "14           14     312629  19.309655\n",
      "15           15     319953  18.515564\n",
      "16           16     349455  17.168814\n",
      "17           17     394324  14.641375\n",
      "18           18     431991  15.381995\n",
      "19           19     416743  17.795008\n",
      "20           20     356279  20.347398\n",
      "21           21     318363  22.584731\n",
      "22           22     289886  21.129847\n",
      "23           23     241690  20.259757\n"
     ]
    },
    {
     "data": {
      "application/javascript": [
       "parent.postMessage({\"jupyterEvent\": \"custom.exercise_interaction\", \"data\": {\"outcomeType\": 1, \"valueTowardsCompletion\": 0.16666666666666666, \"interactionType\": 1, \"questionType\": 2, \"questionId\": \"5_TheLongQuery\", \"learnToolsVersion\": \"0.3.4\", \"failureMessage\": \"\", \"exceptionClass\": \"\", \"trace\": \"\"}}, \"*\")"
      ],
      "text/plain": [
       "<IPython.core.display.Javascript object>"
      ]
     },
     "metadata": {},
     "output_type": "display_data"
    },
    {
     "data": {
      "text/markdown": [
       "<span style=\"color:#33cc33\">Correct</span>"
      ],
      "text/plain": [
       "Correct"
      ]
     },
     "metadata": {},
     "output_type": "display_data"
    }
   ],
   "source": [
    "# Your code goes here\n",
    "speeds_query = \"\"\"\n",
    "               WITH RelevantRides AS\n",
    "               (\n",
    "                   SELECT EXTRACT(HOUR FROM trip_start_timestamp) AS hour_of_day,\n",
    "                       trip_miles,\n",
    "                       trip_seconds\n",
    "                   FROM `bigquery-public-data.chicago_taxi_trips.taxi_trips`\n",
    "                   WHERE trip_start_timestamp > '2016-01-01'\n",
    "                       AND trip_start_timestamp < '2016-04-01'\n",
    "                       AND trip_seconds > 0\n",
    "                       AND trip_miles > 0\n",
    "               )\n",
    "               SELECT hour_of_day,\n",
    "                   COUNT(1) AS num_trips,\n",
    "                   3600 * SUM(trip_miles) / SUM(trip_seconds) AS avg_mph\n",
    "               FROM RelevantRides\n",
    "               GROUP BY hour_of_day\n",
    "               ORDER BY hour_of_day\n",
    "               \"\"\"\n",
    "# Set up the query\n",
    "safe_config = bigquery.QueryJobConfig(maximum_bytes_billed=10**10)\n",
    "speeds_query_job = client.query(speeds_query, job_config=safe_config) # Your code here\n",
    "\n",
    "# API request - run the query, and return a pandas DataFrame\n",
    "speeds_result = speeds_query_job.to_dataframe() \n",
    "\n",
    "# View results\n",
    "print(speeds_result)\n",
    "\n",
    "# Check your answer\n",
    "q_5.check()"
   ]
  },
  {
   "cell_type": "markdown",
   "id": "10ad7946",
   "metadata": {
    "papermill": {
     "duration": 0.008876,
     "end_time": "2023-02-16T05:49:46.147933",
     "exception": false,
     "start_time": "2023-02-16T05:49:46.139057",
     "status": "completed"
    },
    "tags": []
   },
   "source": [
    "For the solution, uncomment the appropriate line below."
   ]
  },
  {
   "cell_type": "code",
   "execution_count": 13,
   "id": "a4cbe568",
   "metadata": {
    "execution": {
     "iopub.execute_input": "2023-02-16T05:49:46.168522Z",
     "iopub.status.busy": "2023-02-16T05:49:46.167592Z",
     "iopub.status.idle": "2023-02-16T05:49:46.172539Z",
     "shell.execute_reply": "2023-02-16T05:49:46.171583Z"
    },
    "papermill": {
     "duration": 0.018387,
     "end_time": "2023-02-16T05:49:46.175020",
     "exception": false,
     "start_time": "2023-02-16T05:49:46.156633",
     "status": "completed"
    },
    "tags": []
   },
   "outputs": [],
   "source": [
    "#q_5.solution()"
   ]
  },
  {
   "cell_type": "markdown",
   "id": "db15d8dc",
   "metadata": {
    "papermill": {
     "duration": 0.00849,
     "end_time": "2023-02-16T05:49:46.192320",
     "exception": false,
     "start_time": "2023-02-16T05:49:46.183830",
     "status": "completed"
    },
    "tags": []
   },
   "source": [
    "That's a hard query. If you made good progress towards the solution, congratulations!"
   ]
  },
  {
   "cell_type": "markdown",
   "id": "ac2118ed",
   "metadata": {
    "papermill": {
     "duration": 0.008346,
     "end_time": "2023-02-16T05:49:46.209497",
     "exception": false,
     "start_time": "2023-02-16T05:49:46.201151",
     "status": "completed"
    },
    "tags": []
   },
   "source": [
    "# Keep going\n",
    "\n",
    "You can write very complex queries now with a single data source. But nothing expands the horizons of SQL as much as the ability to combine or **JOIN** tables.\n",
    "\n",
    "**[Click here](https://www.kaggle.com/dansbecker/joining-data)** to start the last lesson in the Intro to SQL course."
   ]
  },
  {
   "cell_type": "markdown",
   "id": "91ccf7ac",
   "metadata": {
    "papermill": {
     "duration": 0.008453,
     "end_time": "2023-02-16T05:49:46.227120",
     "exception": false,
     "start_time": "2023-02-16T05:49:46.218667",
     "status": "completed"
    },
    "tags": []
   },
   "source": [
    "---\n",
    "\n",
    "\n",
    "\n",
    "\n",
    "*Have questions or comments? Visit the [course discussion forum](https://www.kaggle.com/learn/intro-to-sql/discussion) to chat with other learners.*"
   ]
  }
 ],
 "metadata": {
  "kernelspec": {
   "display_name": "Python 3",
   "language": "python",
   "name": "python3"
  },
  "language_info": {
   "codemirror_mode": {
    "name": "ipython",
    "version": 3
   },
   "file_extension": ".py",
   "mimetype": "text/x-python",
   "name": "python",
   "nbconvert_exporter": "python",
   "pygments_lexer": "ipython3",
   "version": "3.7.12"
  },
  "papermill": {
   "default_parameters": {},
   "duration": 22.884553,
   "end_time": "2023-02-16T05:49:46.958085",
   "environment_variables": {},
   "exception": null,
   "input_path": "__notebook__.ipynb",
   "output_path": "__notebook__.ipynb",
   "parameters": {},
   "start_time": "2023-02-16T05:49:24.073532",
   "version": "2.3.4"
  }
 },
 "nbformat": 4,
 "nbformat_minor": 5
}
